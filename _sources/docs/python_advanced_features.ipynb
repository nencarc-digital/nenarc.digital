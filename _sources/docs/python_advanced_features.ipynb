{
 "cells": [
  {
   "cell_type": "markdown",
   "id": "053abc45",
   "metadata": {},
   "source": [
    "(python_advanced_features)=\n",
    "\n",
    "# More Language Features\n",
    "\n",
    "## Overview\n",
    "\n",
    "```{tip}\n",
    "With this last lecture, our advice is to **skip it on first pass**,\n",
    "unless you have a burning desire to read it.\n",
    "```\n",
    "\n",
    "It\\'s here\n",
    "\n",
    "1.  as a reference, so we can link back to it when required, and\n",
    "2.  for those who have worked through a number of applications, and now\n",
    "    want to learn more about the Python language\n",
    "\n",
    "A variety of topics are treated in the lecture, including generators,\n",
    "exceptions and descriptors.\n",
    "\n",
    "## Iterables and Iterators\n",
    "\n",
    "We\\'ve {ref}`already said something <iterating_version_1>` about iterating in Python.\n",
    "\n",
    "Now let\\'s look more closely at how it all works, focusing in Python\\'s\n",
    "implementation of the `for` loop.\n",
    "\n",
    "### Iterators\n",
    "\n",
    "Iterators are a uniform interface to stepping through elements in a\n",
    "collection.\n",
    "\n",
    "Here we\\'ll talk about using iterators---later we\\'ll learn how to\n",
    "build our own.\n",
    "\n",
    "Formally, an *iterator* is an object with a `__next__` method.\n",
    "\n",
    "For example, file objects are iterators .\n",
    "\n",
    "<!-- To see this, let\\'s have another look at the\n",
    "{ref}`US cities data <us_cities_data>`, which\n",
    "is written to the present working directory in the following cell\n",
    "\n",
    "```{code-cell} ipython3\n",
    "%%file us_cities.txt\n",
    "new york: 8244910\n",
    "los angeles: 3819702\n",
    "chicago: 2707120\n",
    "houston: 2145146\n",
    "philadelphia: 1536471\n",
    "phoenix: 1469471\n",
    "san antonio: 1359758\n",
    "san diego: 1326179\n",
    "dallas: 1223229 \n",
    "```\n",
    "\n",
    "```{code-cell} ipython3\n",
    "f = open('us_cities.txt')\n",
    "f.__next__()\n",
    "```\n",
    "\n",
    "```{code-cell} ipython3\n",
    "f.__next__()\n",
    "```\n",
    "\n",
    "We see that file objects do indeed have a `__next__` method, and that\n",
    "calling this method returns the next line in the file.\n",
    "\n",
    "The next method can also be accessed via the builtin function `next()`,\n",
    "which directly calls this method\n",
    "\n",
    "```{code-cell} ipython3\n",
    "next(f)\n",
    "``` -->\n",
    "\n",
    "The objects returned by `enumerate()` are also iterators"
   ]
  },
  {
   "cell_type": "code",
   "execution_count": null,
   "id": "53aa37c2",
   "metadata": {},
   "outputs": [],
   "source": [
    "e = enumerate(['foo', 'bar'])\n",
    "next(e)"
   ]
  },
  {
   "cell_type": "code",
   "execution_count": null,
   "id": "1f4b6ba2",
   "metadata": {},
   "outputs": [],
   "source": [
    "next(e)"
   ]
  },
  {
   "cell_type": "markdown",
   "id": "6f0d6280",
   "metadata": {},
   "source": [
    "as are the reader objects from the `csv` module .\n",
    "\n",
    "Let\\'s create a small csv file that contains data from the NIKKEI index\n",
    "\n",
    "<!-- ```{code-cell} ipython3\n",
    "%%file test_table.csv\n",
    "Date,Open,High,Low,Close,Volume,Adj Close\n",
    "2009-05-21,9280.35,9286.35,9189.92,9264.15,133200,9264.15\n",
    "2009-05-20,9372.72,9399.40,9311.61,9344.64,143200,9344.64\n",
    "2009-05-19,9172.56,9326.75,9166.97,9290.29,167000,9290.29\n",
    "2009-05-18,9167.05,9167.82,8997.74,9038.69,147800,9038.69\n",
    "2009-05-15,9150.21,9272.08,9140.90,9265.02,172000,9265.02\n",
    "2009-05-14,9212.30,9223.77,9052.41,9093.73,169400,9093.73\n",
    "2009-05-13,9305.79,9379.47,9278.89,9340.49,176000,9340.49\n",
    "2009-05-12,9358.25,9389.61,9298.61,9298.61,188400,9298.61\n",
    "2009-05-11,9460.72,9503.91,9342.75,9451.98,230800,9451.98\n",
    "2009-05-08,9351.40,9464.43,9349.57,9432.83,220200,9432.83\n",
    "```\n",
    "\n",
    "```{code-cell} ipython3\n",
    "from csv import reader\n",
    "\n",
    "f = open('test_table.csv', 'r')  \n",
    "nikkei_data = reader(f) \n",
    "next(nikkei_data)\n",
    "```\n",
    "\n",
    "```{code-cell} ipython3\n",
    "next(nikkei_data)\n",
    "``` -->\n",
    "\n",
    "### Iterators in For Loops\n",
    "\n",
    "All iterators can be placed to the right of the `in` keyword in `for`\n",
    "loop statements.\n",
    "\n",
    "In fact this is how the `for` loop works: If we write\n",
    "\n",
    "```python\n",
    "for x in iterator:\n",
    "    <code block>\n",
    "```\n",
    "\n",
    "then the interpreter\n",
    "\n",
    "-   calls `iterator.___next___()` and binds `x` to the result\n",
    "-   executes the code block\n",
    "-   repeats until a `StopIteration` error occurs\n",
    "\n",
    "So now you know how this magical looking syntax works\n",
    "\n",
    "```python\n",
    "f = open('somefile.txt', 'r')\n",
    "for line in f:\n",
    "    # do something\n",
    "```\n",
    "\n",
    "The interpreter just keeps\n",
    "\n",
    "1.  calling `f.__next__()` and binding `line` to the result\n",
    "2.  executing the body of the loop\n",
    "\n",
    "This continues until a `StopIteration` error occurs.\n",
    "\n",
    "### Iterables\n",
    "\n",
    "You already know that we can put a Python list to the right of `in` in a\n",
    "`for` loop"
   ]
  },
  {
   "cell_type": "code",
   "execution_count": null,
   "id": "d1a9648e",
   "metadata": {},
   "outputs": [],
   "source": [
    "for i in ['spam', 'eggs']:\n",
    "    print(i)"
   ]
  },
  {
   "cell_type": "markdown",
   "id": "21b346f1",
   "metadata": {},
   "source": [
    "So does that mean that a list is an iterator?\n",
    "\n",
    "The answer is no"
   ]
  },
  {
   "cell_type": "code",
   "execution_count": null,
   "id": "da0e6e4a",
   "metadata": {},
   "outputs": [],
   "source": [
    "x = ['foo', 'bar']\n",
    "type(x)"
   ]
  },
  {
   "cell_type": "code",
   "execution_count": null,
   "id": "c180291a",
   "metadata": {
    "tags": [
     "raises-exception"
    ]
   },
   "outputs": [],
   "source": [
    "next(x)"
   ]
  },
  {
   "cell_type": "markdown",
   "id": "4d2537f1",
   "metadata": {},
   "source": [
    "So why can we iterate over a list in a `for` loop?\n",
    "\n",
    "The reason is that a list is *iterable* (as opposed to an iterator).\n",
    "\n",
    "Formally, an object is iterable if it can be converted to an iterator\n",
    "using the built-in function `iter()`.\n",
    "\n",
    "Lists are one such object"
   ]
  },
  {
   "cell_type": "code",
   "execution_count": null,
   "id": "51060328",
   "metadata": {},
   "outputs": [],
   "source": [
    "x = ['foo', 'bar']\n",
    "type(x)"
   ]
  },
  {
   "cell_type": "code",
   "execution_count": null,
   "id": "8abc06bf",
   "metadata": {},
   "outputs": [],
   "source": [
    "y = iter(x)\n",
    "type(y)"
   ]
  },
  {
   "cell_type": "code",
   "execution_count": null,
   "id": "5fc0a293",
   "metadata": {},
   "outputs": [],
   "source": [
    "next(y)  "
   ]
  },
  {
   "cell_type": "code",
   "execution_count": null,
   "id": "a44fd7c7",
   "metadata": {},
   "outputs": [],
   "source": [
    "next(y)"
   ]
  },
  {
   "cell_type": "code",
   "execution_count": null,
   "id": "b4e845b7",
   "metadata": {
    "tags": [
     "raises-exception"
    ]
   },
   "outputs": [],
   "source": [
    "next(y)    "
   ]
  },
  {
   "cell_type": "markdown",
   "id": "adb35dcf",
   "metadata": {},
   "source": [
    "Many other objects are iterable, such as dictionaries and tuples.\n",
    "\n",
    "Of course, not all objects are iterable"
   ]
  },
  {
   "cell_type": "code",
   "execution_count": null,
   "id": "9b8f4b07",
   "metadata": {
    "tags": [
     "raises-exception"
    ]
   },
   "outputs": [],
   "source": [
    "iter(42)"
   ]
  },
  {
   "cell_type": "markdown",
   "id": "7f0f61ee",
   "metadata": {},
   "source": [
    "To conclude our discussion of `for` loops\n",
    "\n",
    "-   `for` loops work on either iterators or iterables.\n",
    "-   In the second case, the iterable is converted into an iterator\n",
    "    before the loop starts.\n",
    "\n",
    "### Iterators and built-ins\n",
    "\n",
    "Some built-in functions that act on sequences also work with iterables\n",
    "\n",
    "-   `max()`, `min()`, `sum()`, `all()`, `any()`\n",
    "\n",
    "For example"
   ]
  },
  {
   "cell_type": "code",
   "execution_count": null,
   "id": "fa90f367",
   "metadata": {},
   "outputs": [],
   "source": [
    "x = [10, -10]\n",
    "max(x)"
   ]
  },
  {
   "cell_type": "code",
   "execution_count": null,
   "id": "0ebc37e6",
   "metadata": {},
   "outputs": [],
   "source": [
    "y = iter(x)\n",
    "type(y)    "
   ]
  },
  {
   "cell_type": "code",
   "execution_count": null,
   "id": "ed720448",
   "metadata": {},
   "outputs": [],
   "source": [
    "max(y)"
   ]
  },
  {
   "cell_type": "markdown",
   "id": "441db544",
   "metadata": {},
   "source": [
    "One thing to remember about iterators is that they are depleted by use"
   ]
  },
  {
   "cell_type": "code",
   "execution_count": null,
   "id": "3b3e1e15",
   "metadata": {},
   "outputs": [],
   "source": [
    "x = [10, -10]\n",
    "y = iter(x)\n",
    "max(y)"
   ]
  },
  {
   "cell_type": "code",
   "execution_count": null,
   "id": "faa5ef5f",
   "metadata": {
    "tags": [
     "raises-exception"
    ]
   },
   "outputs": [],
   "source": [
    "max(y)"
   ]
  },
  {
   "cell_type": "markdown",
   "id": "0b2d6a9f",
   "metadata": {},
   "source": [
    "(name_res)=\n",
    "\n",
    "## Names and Name Resolution\n",
    "\n",
    "### Variable Names in Python\n",
    "\n",
    "Consider the Python statement"
   ]
  },
  {
   "cell_type": "code",
   "execution_count": null,
   "id": "c3ad027a",
   "metadata": {},
   "outputs": [],
   "source": [
    "x = 42"
   ]
  },
  {
   "cell_type": "markdown",
   "id": "7e95f7ba",
   "metadata": {},
   "source": [
    "We now know that when this statement is executed, Python creates an\n",
    "object of type `int` in your computer\\'s memory, containing\n",
    "\n",
    "-   the value `42`\n",
    "-   some associated attributes\n",
    "\n",
    "But what is `x` itself?\n",
    "\n",
    "In Python, `x` is called a *name*, and the statement `x = 42` *binds*\n",
    "the name `x` to the integer object we have just discussed.\n",
    "\n",
    "Under the hood, this process of binding names to objects is implemented\n",
    "as a dictionary---more about this in a moment.\n",
    "\n",
    "There is no problem binding two or more names to the one object,\n",
    "regardless of what that object is"
   ]
  },
  {
   "cell_type": "code",
   "execution_count": null,
   "id": "6bf4e41e",
   "metadata": {},
   "outputs": [],
   "source": [
    "def f(string):      # Create a function called f\n",
    "    print(string)   # that prints any string it's passed\n",
    "\n",
    "g = f\n",
    "id(g) == id(f)"
   ]
  },
  {
   "cell_type": "code",
   "execution_count": null,
   "id": "d5ff4d7d",
   "metadata": {},
   "outputs": [],
   "source": [
    "g('test')"
   ]
  },
  {
   "cell_type": "markdown",
   "id": "f8aeecf4",
   "metadata": {},
   "source": [
    "In the first step, a function object is created, and the name `f` is\n",
    "bound to it.\n",
    "\n",
    "After binding the name `g` to the same object, we can use it anywhere we\n",
    "would use `f`.\n",
    "\n",
    "What happens when the number of names bound to an object goes to zero?\n",
    "\n",
    "Here\\'s an example of this situation, where the name `x` is first bound\n",
    "to one object and then rebound to another"
   ]
  },
  {
   "cell_type": "code",
   "execution_count": null,
   "id": "35bed29b",
   "metadata": {},
   "outputs": [],
   "source": [
    "x = 'foo'\n",
    "id(x)"
   ]
  },
  {
   "cell_type": "code",
   "execution_count": null,
   "id": "71d2302d",
   "metadata": {},
   "outputs": [],
   "source": [
    "x = 'bar'  # No names bound to the first object"
   ]
  },
  {
   "cell_type": "markdown",
   "id": "c39abc4d",
   "metadata": {},
   "source": [
    "What happens here is that the first object is garbage collected.\n",
    "\n",
    "In other words, the memory slot that stores that object is deallocated,\n",
    "and returned to the operating system.\n",
    "\n",
    "### Namespaces\n",
    "\n",
    "Recall from the preceding discussion that the statement"
   ]
  },
  {
   "cell_type": "code",
   "execution_count": null,
   "id": "cf3b7031",
   "metadata": {},
   "outputs": [],
   "source": [
    "x = 42"
   ]
  },
  {
   "cell_type": "markdown",
   "id": "48f24f11",
   "metadata": {},
   "source": [
    "binds the name `x` to the integer object on the right-hand side.\n",
    "\n",
    "We also mentioned that this process of binding `x` to the correct object\n",
    "is implemented as a dictionary.\n",
    "\n",
    "This dictionary is called a *namespace*.\n",
    "\n",
    "**Definition:** A namespace is a symbol table that maps names to objects\n",
    "in memory.\n",
    "\n",
    "Python uses multiple namespaces, creating them on the fly as necessary .\n",
    "\n",
    "For example, every time we import a module, Python creates a namespace\n",
    "for that module.\n",
    "\n",
    "To see this in action, suppose we write a script `math2.py` with a\n",
    "single line\n",
    "\n",
    "<!-- ```{code-cell} ipython3\n",
    "%%file math2.py\n",
    "pi = 'foobar'\n",
    "```\n",
    "\n",
    "Now we start the Python interpreter and import it\n",
    "\n",
    "```{code-cell} ipython3\n",
    "import math2\n",
    "```\n",
    "\n",
    "Next let\\'s import the `math` module from the standard library\n",
    "\n",
    "```{code-cell} ipython3\n",
    "import math\n",
    "```\n",
    "\n",
    "Both of these modules have an attribute called `pi`\n",
    "\n",
    "```{code-cell} ipython3\n",
    "math.pi\n",
    "```\n",
    "\n",
    "```{code-cell} ipython3\n",
    "math2.pi\n",
    "```\n",
    "\n",
    "These two different bindings of `pi` exist in different namespaces, each\n",
    "one implemented as a dictionary.\n",
    "\n",
    "We can look at the dictionary directly, using `module_name.__dict__`\n",
    "\n",
    "```{code-cell} ipython3\n",
    "import math\n",
    "\n",
    "math.__dict__.items()\n",
    "```\n",
    "\n",
    "```{code-cell} ipython3\n",
    "import math2\n",
    "\n",
    "math2.__dict__.items()\n",
    "```\n",
    "\n",
    "As you know, we access elements of the namespace using the dotted\n",
    "attribute notation\n",
    "\n",
    "```{code-cell} ipython3\n",
    "math.pi\n",
    "```\n",
    "\n",
    "In fact this is entirely equivalent to `math.__dict__['pi']`\n",
    "\n",
    "```{code-cell} ipython3\n",
    "math.__dict__['pi'] == math.pi\n",
    "```\n",
    " -->\n",
    "### Viewing Namespaces\n",
    "\n",
    "As we saw above, the `math` namespace can be printed by typing\n",
    "`math.__dict__`.\n",
    "\n",
    "Another way to see its contents is to type `vars(math)`\n",
    "\n",
    "<!-- ```{code-cell} ipython3\n",
    "vars(math).items()\n",
    "```\n",
    "\n",
    "If you just want to see the names, you can type\n",
    "\n",
    "```{code-cell} ipython3\n",
    "dir(math)[0:10]\n",
    "```\n",
    "\n",
    "Notice the special names `__doc__` and `__name__`.\n",
    "\n",
    "These are initialized in the namespace when any module is imported\n",
    "\n",
    "-   `__doc__` is the doc string of the module\n",
    "-   `__name__` is the name of the module\n",
    "\n",
    "```{code-cell} ipython3\n",
    "print(math.__doc__)\n",
    "```\n",
    "\n",
    "```{code-cell} ipython3\n",
    "math.__name__\n",
    "``` -->\n",
    "\n",
    "### Interactive Sessions\n",
    "\n",
    "In Python, **all** code executed by the interpreter runs in some module.\n",
    "\n",
    "What about commands typed at the prompt?\n",
    "\n",
    "These are also regarded as being executed within a module --- in this\n",
    "case, a module called `__main__`.\n",
    "\n",
    "To check this, we can look at the current module name via the value of\n",
    "`__name__` given at the prompt"
   ]
  },
  {
   "cell_type": "code",
   "execution_count": null,
   "id": "31ce7140",
   "metadata": {},
   "outputs": [],
   "source": [
    "print(__name__)"
   ]
  },
  {
   "cell_type": "markdown",
   "id": "a0cd95cc",
   "metadata": {},
   "source": [
    "When we run a script using IPython\\'s `run` command, the contents of the\n",
    "file are executed as part of `__main__` too.\n",
    "\n",
    "To see this, let\\'s create a file `mod.py` that prints its own\n",
    "`__name__` attribute\n",
    "\n",
    "<!-- ```{code-cell} ipython3\n",
    "%%file mod.py\n",
    "print(__name__)\n",
    "```\n",
    "\n",
    "Now let\\'s look at two different ways of running it in IPython\n",
    "\n",
    "```{code-cell} ipython3\n",
    "import mod  # Standard import\n",
    "```\n",
    "\n",
    "```{code-cell} ipython3\n",
    "%run mod.py  # Run interactively\n",
    "```\n",
    "\n",
    "In the second case, the code is executed as part of `__main__`, so\n",
    "`__name__` is equal to `__main__`.\n",
    "\n",
    "To see the contents of the namespace of `__main__` we use `vars()`\n",
    "rather than `vars(__main__)` .\n",
    "\n",
    "If you do this in IPython, you will see a whole lot of variables that\n",
    "IPython needs, and has initialized when you started up your session.\n",
    "\n",
    "If you prefer to see only the variables you have initialized, use `whos`\n",
    "\n",
    "```{code-cell} ipython3\n",
    "x = 2\n",
    "y = 3\n",
    "\n",
    "import numpy as np\n",
    "\n",
    "%whos\n",
    "``` -->\n",
    "\n",
    "### The Global Namespace\n",
    "\n",
    "Python documentation often makes reference to the \\\"global namespace\\\".\n",
    "\n",
    "The global namespace is *the namespace of the module currently being\n",
    "executed*.\n",
    "\n",
    "For example, suppose that we start the interpreter and begin making\n",
    "assignments .\n",
    "\n",
    "We are now working in the module `__main__`, and hence the namespace for\n",
    "`__main__` is the global namespace.\n",
    "\n",
    "Next, we import a module called `amodule`\n",
    "\n",
    "```python\n",
    "import amodule\n",
    "```\n",
    "\n",
    "At this point, the interpreter creates a namespace for the module\n",
    "`amodule` and starts executing commands in the module.\n",
    "\n",
    "While this occurs, the namespace `amodule.__dict__` is the global\n",
    "namespace.\n",
    "\n",
    "Once execution of the module finishes, the interpreter returns to the\n",
    "module from where the import statement was made.\n",
    "\n",
    "In this case it\\'s `__main__`, so the namespace of `__main__` again\n",
    "becomes the global namespace.\n",
    "\n",
    "### Local Namespaces\n",
    "\n",
    "Important fact: When we call a function, the interpreter creates a\n",
    "*local namespace* for that function, and registers the variables in that\n",
    "namespace.\n",
    "\n",
    "The reason for this will be explained in just a moment.\n",
    "\n",
    "Variables in the local namespace are called *local variables*.\n",
    "\n",
    "After the function returns, the namespace is deallocated and lost.\n",
    "\n",
    "While the function is executing, we can view the contents of the local\n",
    "namespace with `locals()`.\n",
    "\n",
    "For example, consider"
   ]
  },
  {
   "cell_type": "code",
   "execution_count": null,
   "id": "e9f74a07",
   "metadata": {},
   "outputs": [],
   "source": [
    "def f(x):\n",
    "    a = 2\n",
    "    print(locals())\n",
    "    return a * x"
   ]
  },
  {
   "cell_type": "markdown",
   "id": "292d25c7",
   "metadata": {},
   "source": [
    "Now let\\'s call the function"
   ]
  },
  {
   "cell_type": "code",
   "execution_count": null,
   "id": "bc085333",
   "metadata": {},
   "outputs": [],
   "source": [
    "f(1)"
   ]
  },
  {
   "cell_type": "markdown",
   "id": "04835aa4",
   "metadata": {},
   "source": [
    "You can see the local namespace of `f` before it is destroyed.\n",
    "\n",
    "### The `__builtins__` Namespace\n",
    "\n",
    "We have been using various built-in functions, such as\n",
    "`max(), dir(), str(), list(), len(), range(), type()`, etc.\n",
    "\n",
    "How does access to these names work?\n",
    "\n",
    "-   These definitions are stored in a module called `__builtin__`.\n",
    "-   They have there own namespace called `__builtins__`."
   ]
  },
  {
   "cell_type": "code",
   "execution_count": null,
   "id": "eddade97",
   "metadata": {},
   "outputs": [],
   "source": [
    "dir()[0:10]"
   ]
  },
  {
   "cell_type": "code",
   "execution_count": null,
   "id": "826ba78a",
   "metadata": {},
   "outputs": [],
   "source": [
    "dir(__builtins__)[0:10]"
   ]
  },
  {
   "cell_type": "markdown",
   "id": "09f7666a",
   "metadata": {},
   "source": [
    "We can access elements of the namespace as follows"
   ]
  },
  {
   "cell_type": "code",
   "execution_count": null,
   "id": "22157790",
   "metadata": {},
   "outputs": [],
   "source": [
    "__builtins__.max"
   ]
  },
  {
   "cell_type": "markdown",
   "id": "6d034d20",
   "metadata": {},
   "source": [
    "But `__builtins__` is special, because we can always access them\n",
    "directly as well"
   ]
  },
  {
   "cell_type": "code",
   "execution_count": null,
   "id": "197b09df",
   "metadata": {},
   "outputs": [],
   "source": [
    "max"
   ]
  },
  {
   "cell_type": "code",
   "execution_count": null,
   "id": "1d3832b3",
   "metadata": {},
   "outputs": [],
   "source": [
    "__builtins__.max == max"
   ]
  },
  {
   "cell_type": "markdown",
   "id": "c1bdab1f",
   "metadata": {},
   "source": [
    "The next section explains how this works ...\n",
    "\n",
    "### Name Resolution\n",
    "\n",
    "Namespaces are great because they help us organize variable names.\n",
    "\n",
    "(Type `import this` at the prompt and look at the last item that\\'s\n",
    "printed)\n",
    "\n",
    "However, we do need to understand how the Python interpreter works with\n",
    "multiple namespaces .\n",
    "\n",
    "At any point of execution, there are in fact at least two namespaces\n",
    "that can be accessed directly.\n",
    "\n",
    "(\\\"Accessed directly\\\" means without using a dot, as in `pi` rather than\n",
    "`math.pi`)\n",
    "\n",
    "These namespaces are\n",
    "\n",
    "-   The global namespace (of the module being executed)\n",
    "-   The builtin namespace\n",
    "\n",
    "If the interpreter is executing a function, then the directly accessible\n",
    "namespaces are\n",
    "\n",
    "-   The local namespace of the function\n",
    "-   The global namespace (of the module being executed)\n",
    "-   The builtin namespace\n",
    "\n",
    "Sometimes functions are defined within other functions, like so"
   ]
  },
  {
   "cell_type": "code",
   "execution_count": null,
   "id": "23eb9b1d",
   "metadata": {},
   "outputs": [],
   "source": [
    "def f():\n",
    "    a = 2\n",
    "    def g():\n",
    "        b = 4\n",
    "        print(a * b)\n",
    "    g()"
   ]
  },
  {
   "cell_type": "markdown",
   "id": "446ba205",
   "metadata": {},
   "source": [
    "Here `f` is the *enclosing function* for `g`, and each function gets its\n",
    "own namespaces.\n",
    "\n",
    "Now we can give the rule for how namespace resolution works:\n",
    "\n",
    "The order in which the interpreter searches for names is\n",
    "\n",
    "1.  the local namespace (if it exists)\n",
    "2.  the hierarchy of enclosing namespaces (if they exist)\n",
    "3.  the global namespace\n",
    "4.  the builtin namespace\n",
    "\n",
    "If the name is not in any of these namespaces, the interpreter raises a\n",
    "`NameError`.\n",
    "\n",
    "This is called the **LEGB rule** (local, enclosing, global, builtin).\n",
    "\n",
    "Here\\'s an example that helps to illustrate .\n",
    "\n",
    "Consider a script `test.py` that looks as follows\n",
    "\n",
    "<!-- ```{code-cell} ipython3\n",
    "%%file test.py\n",
    "def g(x):\n",
    "    a = 1\n",
    "    x = x + a\n",
    "    return x\n",
    "\n",
    "a = 0\n",
    "y = g(10)\n",
    "print(\"a = \", a, \"y = \", y)\n",
    "```\n",
    "\n",
    "What happens when we run this script?\n",
    "\n",
    "```{code-cell} ipython3\n",
    "%run test.py\n",
    "```\n",
    "\n",
    "```python\n",
    "x\n",
    "``` -->\n",
    "\n",
    "First,\n",
    "\n",
    "-   The global namespace `{}` is created.\n",
    "-   The function object is created, and `g` is bound to it within the\n",
    "    global namespace.\n",
    "-   The name `a` is bound to `0`, again in the global namespace.\n",
    "\n",
    "Next `g` is called via `y = g(10)`, leading to the following sequence of\n",
    "actions\n",
    "\n",
    "-   The local namespace for the function is created.\n",
    "-   Local names `x` and `a` are bound, so that the local namespace\n",
    "    becomes `{'x': 10, 'a': 1}`.\n",
    "-   Statement `x = x + a` uses the local `a` and local `x` to compute\n",
    "    `x + a`, and binds local name `x` to the result.\n",
    "-   This value is returned, and `y` is bound to it in the global\n",
    "    namespace.\n",
    "-   Local `x` and `a` are discarded (and the local namespace is\n",
    "    deallocated).\n",
    "\n",
    "Note that the global `a` was not affected by the local `a`.\n",
    "\n",
    "(mutable_vs_immutable)=\n",
    "\n",
    "### Mutable Versus Immutable Parameters\n",
    "\n",
    "This is a good time to say a little more about mutable vs immutable\n",
    "objects.\n",
    "\n",
    "Consider the code segment"
   ]
  },
  {
   "cell_type": "code",
   "execution_count": null,
   "id": "b8430aec",
   "metadata": {},
   "outputs": [],
   "source": [
    "def f(x):\n",
    "    x = x + 1\n",
    "    return x\n",
    "\n",
    "x = 1\n",
    "print(f(x), x)"
   ]
  },
  {
   "cell_type": "markdown",
   "id": "9ec0d0cd",
   "metadata": {},
   "source": [
    "We now understand what will happen here: The code prints `2` as the\n",
    "value of `f(x)` and `1` as the value of `x`.\n",
    "\n",
    "First `f` and `x` are registered in the global namespace.\n",
    "\n",
    "The call `f(x)` creates a local namespace and adds `x` to it, bound to\n",
    "`1`.\n",
    "\n",
    "Next, this local `x` is rebound to the new integer object `2`, and this\n",
    "value is returned.\n",
    "\n",
    "None of this affects the global `x`.\n",
    "\n",
    "However, it\\'s a different story when we use a **mutable** data type\n",
    "such as a list"
   ]
  },
  {
   "cell_type": "code",
   "execution_count": null,
   "id": "1a0b976f",
   "metadata": {},
   "outputs": [],
   "source": [
    "def f(x):\n",
    "    x[0] = x[0] + 1\n",
    "    return x\n",
    "\n",
    "x = [1]\n",
    "print(f(x), x)"
   ]
  },
  {
   "cell_type": "markdown",
   "id": "f6ef5192",
   "metadata": {},
   "source": [
    "This prints `[2]` as the value of `f(x)` and *same* for `x`.\n",
    "\n",
    "Here\\'s what happens\n",
    "\n",
    "-   `f` is registered as a function in the global namespace\n",
    "-   `x` bound to `[1]` in the global namespace\n",
    "-   The call `f(x)`\n",
    "    -   Creates a local namespace\n",
    "    -   Adds `x` to local namespace, bound to `[1]`\n",
    "    -   The list `[1]` is modified to `[2]`\n",
    "    -   Returns the list `[2]`\n",
    "    -   The local namespace is deallocated, and local `x` is lost\n",
    "-   Global `x` has been modified\n",
    "\n",
    "## Handling Errors\n",
    "\n",
    "Sometimes it\\'s possible to anticipate errors as we\\'re writing code.\n",
    "\n",
    "For example, the unbiased sample variance of sample $y_1, \\ldots, y_n$\n",
    "is defined as\n",
    "\n",
    "$$\n",
    "s^2 := \\frac{1}{n-1} \\sum_{i=1}^n (y_i - \\bar y)^2\n",
    "\\qquad \\bar y = \\text{ sample mean}\n",
    "$$\n",
    "\n",
    "This can be calculated in NumPy using `np.var`.\n",
    "\n",
    "But if you were writing a function to handle such a calculation, you\n",
    "might anticipate a divide-by-zero error when the sample size is one.\n",
    "\n",
    "One possible action is to do nothing --- the program will just crash,\n",
    "and spit out an error message.\n",
    "\n",
    "But sometimes it\\'s worth writing your code in a way that anticipates\n",
    "and deals with runtime errors that you think might arise.\n",
    "\n",
    "Why?\n",
    "\n",
    "-   Because the debugging information provided by the interpreter is\n",
    "    often less useful than the information on possible errors you have\n",
    "    in your head when writing code.\n",
    "-   Because errors causing execution to stop are frustrating if you\\'re\n",
    "    in the middle of a large computation.\n",
    "-   Because it\\'s reduces confidence in your code on the part of your\n",
    "    users (if you are writing for others).\n",
    "\n",
    "### Assertions\n",
    "\n",
    "A relatively easy way to handle checks is with the `assert` keyword.\n",
    "\n",
    "For example, pretend for a moment that the `np.var` function doesn\\'t\n",
    "exist and we need to write our own"
   ]
  },
  {
   "cell_type": "code",
   "execution_count": null,
   "id": "40c9de78",
   "metadata": {},
   "outputs": [],
   "source": [
    "def var(y):\n",
    "    n = len(y)\n",
    "    assert n > 1, 'Sample size must be greater than one.'\n",
    "    return np.sum((y - y.mean())**2) / float(n-1)"
   ]
  },
  {
   "cell_type": "markdown",
   "id": "2f3e3a39",
   "metadata": {},
   "source": [
    "If we run this with an array of length one, the program will terminate\n",
    "and print our error message\n",
    "\n",
    "```python\n",
    "var([1])\n",
    "```\n",
    "\n",
    "The advantage is that we can\n",
    "\n",
    "-   fail early, as soon as we know there will be a problem\n",
    "-   supply specific information on why a program is failing\n",
    "\n",
    "### Handling Errors During Runtime\n",
    "\n",
    "The approach used above is a bit limited, because it always leads to\n",
    "termination.\n",
    "\n",
    "Sometimes we can handle errors more gracefully, by treating special\n",
    "cases.\n",
    "\n",
    "Let\\'s look at how this is done.\n",
    "\n",
    "#### Exceptions\n",
    "\n",
    "Here\\'s an example of a common error type\n",
    "\n",
    "```python\n",
    "def f:\n",
    "```\n",
    "\n",
    "Since illegal syntax cannot be executed, a syntax error terminates\n",
    "execution of the program.\n",
    "\n",
    "Here\\'s a different kind of error, unrelated to syntax"
   ]
  },
  {
   "cell_type": "code",
   "execution_count": null,
   "id": "6a927c69",
   "metadata": {
    "tags": [
     "raises-exception"
    ]
   },
   "outputs": [],
   "source": [
    "1 / 0"
   ]
  },
  {
   "cell_type": "markdown",
   "id": "176f9d09",
   "metadata": {},
   "source": [
    "Here\\'s another"
   ]
  },
  {
   "cell_type": "code",
   "execution_count": null,
   "id": "0e1f52a2",
   "metadata": {
    "tags": [
     "raises-exception"
    ]
   },
   "outputs": [],
   "source": [
    "x1 = y1"
   ]
  },
  {
   "cell_type": "markdown",
   "id": "bfdbc89d",
   "metadata": {},
   "source": [
    "And another"
   ]
  },
  {
   "cell_type": "code",
   "execution_count": null,
   "id": "4ff5a20d",
   "metadata": {
    "tags": [
     "raises-exception"
    ]
   },
   "outputs": [],
   "source": [
    "'foo' + 6"
   ]
  },
  {
   "cell_type": "markdown",
   "id": "87915af3",
   "metadata": {},
   "source": [
    "And another"
   ]
  },
  {
   "cell_type": "code",
   "execution_count": null,
   "id": "48844cf9",
   "metadata": {
    "tags": [
     "raises-exception"
    ]
   },
   "outputs": [],
   "source": [
    "X = []\n",
    "x = X[0]"
   ]
  },
  {
   "cell_type": "markdown",
   "id": "64a82200",
   "metadata": {},
   "source": [
    "On each occasion, the interpreter informs us of the error type\n",
    "\n",
    "-   `NameError`, `TypeError`, `IndexError`, `ZeroDivisionError`, etc.\n",
    "\n",
    "In Python, these errors are called *exceptions*.\n",
    "\n",
    "#### Catching Exceptions\n",
    "\n",
    "We can catch and deal with exceptions using `try` -- `except` blocks.\n",
    "\n",
    "Here\\'s a simple example"
   ]
  },
  {
   "cell_type": "code",
   "execution_count": null,
   "id": "4b6b88be",
   "metadata": {},
   "outputs": [],
   "source": [
    "def f(x):\n",
    "    try:\n",
    "        return 1.0 / x\n",
    "    except ZeroDivisionError:\n",
    "        print('Error: division by zero.  Returned None')\n",
    "    return None"
   ]
  },
  {
   "cell_type": "markdown",
   "id": "b8776242",
   "metadata": {},
   "source": [
    "When we call `f` we get the following output"
   ]
  },
  {
   "cell_type": "code",
   "execution_count": null,
   "id": "7c48fd74",
   "metadata": {},
   "outputs": [],
   "source": [
    "f(2)"
   ]
  },
  {
   "cell_type": "code",
   "execution_count": null,
   "id": "3d7bfb4e",
   "metadata": {},
   "outputs": [],
   "source": [
    "f(0)"
   ]
  },
  {
   "cell_type": "code",
   "execution_count": null,
   "id": "5ddbaf09",
   "metadata": {},
   "outputs": [],
   "source": [
    "f(0.0)"
   ]
  },
  {
   "cell_type": "markdown",
   "id": "fcf4b394",
   "metadata": {},
   "source": [
    "The error is caught and execution of the program is not terminated.\n",
    "\n",
    "Note that other error types are not caught.\n",
    "\n",
    "If we are worried the user might pass in a string, we can catch that\n",
    "error too"
   ]
  },
  {
   "cell_type": "code",
   "execution_count": null,
   "id": "13e4ea75",
   "metadata": {},
   "outputs": [],
   "source": [
    "def f(x):\n",
    "    try:\n",
    "        return 1.0 / x\n",
    "    except ZeroDivisionError:\n",
    "        print('Error: Division by zero.  Returned None')\n",
    "    except TypeError:\n",
    "        print('Error: Unsupported operation.  Returned None')\n",
    "    return None"
   ]
  },
  {
   "cell_type": "markdown",
   "id": "ee940961",
   "metadata": {},
   "source": [
    "Here\\'s what happens"
   ]
  },
  {
   "cell_type": "code",
   "execution_count": null,
   "id": "71ecb26f",
   "metadata": {},
   "outputs": [],
   "source": [
    "f(2)"
   ]
  },
  {
   "cell_type": "code",
   "execution_count": null,
   "id": "524d8cc9",
   "metadata": {},
   "outputs": [],
   "source": [
    "f(0)"
   ]
  },
  {
   "cell_type": "code",
   "execution_count": null,
   "id": "05f82283",
   "metadata": {},
   "outputs": [],
   "source": [
    "f('foo')"
   ]
  },
  {
   "cell_type": "markdown",
   "id": "f753a025",
   "metadata": {},
   "source": [
    "If we feel lazy we can catch these errors together"
   ]
  },
  {
   "cell_type": "code",
   "execution_count": null,
   "id": "1831f06c",
   "metadata": {},
   "outputs": [],
   "source": [
    "def f(x):\n",
    "    try:\n",
    "        return 1.0 / x\n",
    "    except (TypeError, ZeroDivisionError):\n",
    "        print('Error: Unsupported operation.  Returned None')\n",
    "    return None"
   ]
  },
  {
   "cell_type": "markdown",
   "id": "396dff9e",
   "metadata": {},
   "source": [
    "Here\\'s what happens"
   ]
  },
  {
   "cell_type": "code",
   "execution_count": null,
   "id": "f15a636e",
   "metadata": {},
   "outputs": [],
   "source": [
    "f(2)"
   ]
  },
  {
   "cell_type": "code",
   "execution_count": null,
   "id": "a142b057",
   "metadata": {},
   "outputs": [],
   "source": [
    "f(0)"
   ]
  },
  {
   "cell_type": "code",
   "execution_count": null,
   "id": "beb23e64",
   "metadata": {},
   "outputs": [],
   "source": [
    "f('foo')"
   ]
  },
  {
   "cell_type": "markdown",
   "id": "3a2f7d0c",
   "metadata": {},
   "source": [
    "If we feel extra lazy we can catch all error types as follows"
   ]
  },
  {
   "cell_type": "code",
   "execution_count": null,
   "id": "d584a78d",
   "metadata": {},
   "outputs": [],
   "source": [
    "def f(x):\n",
    "    try:\n",
    "        return 1.0 / x\n",
    "    except:\n",
    "        print('Error.  Returned None')\n",
    "    return None"
   ]
  },
  {
   "cell_type": "markdown",
   "id": "10e91412",
   "metadata": {},
   "source": [
    "In general it\\'s better to be specific.\n",
    "\n",
    "## Decorators and Descriptors\n",
    "\n",
    "Let\\'s look at some special syntax elements that are routinely used by\n",
    "Python developers.\n",
    "\n",
    "You might not need the following concepts immediately, but you will see\n",
    "them in other people\\'s code.\n",
    "\n",
    "Hence you need to understand them at some stage of your Python\n",
    "education.\n",
    "\n",
    "### Decorators\n",
    "\n",
    "Decorators are a bit of syntactic sugar that, while easily avoided, have\n",
    "turned out to be popular.\n",
    "\n",
    "It\\'s very easy to say what decorators do.\n",
    "\n",
    "On the other hand it takes a bit of effort to explain *why* you might\n",
    "use them.\n",
    "\n",
    "#### An Example\n",
    "\n",
    "Suppose we are working on a program that looks something like this"
   ]
  },
  {
   "cell_type": "code",
   "execution_count": null,
   "id": "3bef5853",
   "metadata": {},
   "outputs": [],
   "source": [
    "import numpy as np\n",
    "\n",
    "def f(x):\n",
    "    return np.log(np.log(x))\n",
    "\n",
    "def g(x):\n",
    "    return np.sqrt(42 * x)\n",
    "\n",
    "# Program continues with various calculations using f and g"
   ]
  },
  {
   "cell_type": "markdown",
   "id": "504b114f",
   "metadata": {},
   "source": [
    "Now suppose there\\'s a problem: occasionally negative numbers get fed to\n",
    "`f` and `g` in the calculations that follow.\n",
    "\n",
    "If you try it, you\\'ll see that when these functions are called with\n",
    "negative numbers they return a NumPy object called `nan` .\n",
    "\n",
    "This stands for \\\"not a number\\\" (and indicates that you are trying to\n",
    "evaluate a mathematical function at a point where it is not defined).\n",
    "\n",
    "Perhaps this isn\\'t what we want, because it causes other problems that\n",
    "are hard to pick up later on.\n",
    "\n",
    "Suppose that instead we want the program to terminate whenever this\n",
    "happens, with a sensible error message.\n",
    "\n",
    "This change is easy enough to implement"
   ]
  },
  {
   "cell_type": "code",
   "execution_count": null,
   "id": "de5ab8c3",
   "metadata": {},
   "outputs": [],
   "source": [
    "import numpy as np\n",
    "\n",
    "def f(x):\n",
    "    assert x >= 0, \"Argument must be nonnegative\"\n",
    "    return np.log(np.log(x))\n",
    "\n",
    "def g(x):\n",
    "    assert x >= 0, \"Argument must be nonnegative\"\n",
    "    return np.sqrt(42 * x)\n",
    "\n",
    "# Program continues with various calculations using f and g"
   ]
  },
  {
   "cell_type": "markdown",
   "id": "319371c4",
   "metadata": {},
   "source": [
    "Notice however that there is some repetition here, in the form of two\n",
    "identical lines of code.\n",
    "\n",
    "Repetition makes our code longer and harder to maintain, and hence is\n",
    "something we try hard to avoid.\n",
    "\n",
    "Here it\\'s not a big deal, but imagine now that instead of just `f` and\n",
    "`g`, we have 20 such functions that we need to modify in exactly the\n",
    "same way.\n",
    "\n",
    "This means we need to repeat the test logic (i.e., the `assert` line\n",
    "testing nonnegativity) 20 times.\n",
    "\n",
    "The situation is still worse if the test logic is longer and more\n",
    "complicated.\n",
    "\n",
    "In this kind of scenario the following approach would be neater"
   ]
  },
  {
   "cell_type": "code",
   "execution_count": null,
   "id": "5ddbcbab",
   "metadata": {},
   "outputs": [],
   "source": [
    "import numpy as np\n",
    "\n",
    "def check_nonneg(func):\n",
    "    def safe_function(x):\n",
    "        assert x >= 0, \"Argument must be nonnegative\"\n",
    "        return func(x)\n",
    "    return safe_function\n",
    "\n",
    "def f(x):\n",
    "    return np.log(np.log(x))\n",
    "\n",
    "def g(x):\n",
    "    return np.sqrt(42 * x)\n",
    "\n",
    "f = check_nonneg(f)\n",
    "g = check_nonneg(g)\n",
    "# Program continues with various calculations using f and g"
   ]
  },
  {
   "cell_type": "markdown",
   "id": "5f8afa58",
   "metadata": {},
   "source": [
    "This looks complicated so let\\'s work through it slowly.\n",
    "\n",
    "To unravel the logic, consider what happens when we say\n",
    "`f = check_nonneg(f)`.\n",
    "\n",
    "This calls the function `check_nonneg` with parameter `func` set equal\n",
    "to `f`.\n",
    "\n",
    "Now `check_nonneg` creates a new function called `safe_function` that\n",
    "verifies `x` as nonnegative and then calls `func` on it (which is the\n",
    "same as `f`).\n",
    "\n",
    "Finally, the global name `f` is then set equal to `safe_function`.\n",
    "\n",
    "Now the behavior of `f` is as we desire, and the same is true of `g`.\n",
    "\n",
    "At the same time, the test logic is written only once.\n",
    "\n",
    "#### Enter Decorators\n",
    "\n",
    "The last version of our code is still not ideal.\n",
    "\n",
    "For example, if someone is reading our code and wants to know how `f`\n",
    "works, they will be looking for the function definition, which is"
   ]
  },
  {
   "cell_type": "code",
   "execution_count": null,
   "id": "76da6125",
   "metadata": {},
   "outputs": [],
   "source": [
    "def f(x):\n",
    "    return np.log(np.log(x))"
   ]
  },
  {
   "cell_type": "markdown",
   "id": "dbb256bf",
   "metadata": {},
   "source": [
    "They may well miss the line `f = check_nonneg(f)`.\n",
    "\n",
    "For this and other reasons, decorators were introduced to Python.\n",
    "\n",
    "With decorators, we can replace the lines"
   ]
  },
  {
   "cell_type": "code",
   "execution_count": null,
   "id": "b1b8b13d",
   "metadata": {},
   "outputs": [],
   "source": [
    "def f(x):\n",
    "    return np.log(np.log(x))\n",
    "\n",
    "def g(x):\n",
    "    return np.sqrt(42 * x)\n",
    "\n",
    "f = check_nonneg(f)\n",
    "g = check_nonneg(g)"
   ]
  },
  {
   "cell_type": "markdown",
   "id": "cdc7af1c",
   "metadata": {},
   "source": [
    "with"
   ]
  },
  {
   "cell_type": "code",
   "execution_count": null,
   "id": "ef06dc6c",
   "metadata": {},
   "outputs": [],
   "source": [
    "@check_nonneg\n",
    "def f(x):\n",
    "    return np.log(np.log(x))\n",
    "\n",
    "@check_nonneg\n",
    "def g(x):\n",
    "    return np.sqrt(42 * x)"
   ]
  },
  {
   "cell_type": "markdown",
   "id": "94b9df25",
   "metadata": {},
   "source": [
    "These two pieces of code do exactly the same thing.\n",
    "\n",
    "If they do the same thing, do we really need decorator syntax?\n",
    "\n",
    "Well, notice that the decorators sit right on top of the function\n",
    "definitions.\n",
    "\n",
    "Hence anyone looking at the definition of the function will see them and\n",
    "be aware that the function is modified.\n",
    "\n",
    "In the opinion of many people, this makes the decorator syntax a\n",
    "significant improvement to the language.\n",
    "\n",
    "### Descriptors\n",
    "\n",
    "Descriptors solve a common problem regarding management of variables.\n",
    "\n",
    "To understand the issue, consider a `Car` class, that simulates a car.\n",
    "\n",
    "Suppose that this class defines the variables `miles` and `kms`, which\n",
    "give the distance traveled in miles and kilometers respectively.\n",
    "\n",
    "A highly simplified version of the class might look as follows"
   ]
  },
  {
   "cell_type": "code",
   "execution_count": null,
   "id": "9ea3efd5",
   "metadata": {},
   "outputs": [],
   "source": [
    "class Car:\n",
    "\n",
    "    def __init__(self, miles=1000):\n",
    "        self.miles = miles\n",
    "        self.kms = miles * 1.61\n",
    "\n",
    "    # Some other functionality, details omitted"
   ]
  },
  {
   "cell_type": "markdown",
   "id": "08935675",
   "metadata": {},
   "source": [
    "One potential problem we might have here is that a user alters one of\n",
    "these variables but not the other"
   ]
  },
  {
   "cell_type": "code",
   "execution_count": null,
   "id": "51e2c7bb",
   "metadata": {},
   "outputs": [],
   "source": [
    "car = Car()\n",
    "car.miles"
   ]
  },
  {
   "cell_type": "code",
   "execution_count": null,
   "id": "fbd2b391",
   "metadata": {},
   "outputs": [],
   "source": [
    "car.kms"
   ]
  },
  {
   "cell_type": "code",
   "execution_count": null,
   "id": "37be350f",
   "metadata": {},
   "outputs": [],
   "source": [
    "car.miles = 6000\n",
    "car.kms"
   ]
  },
  {
   "cell_type": "markdown",
   "id": "6c0cd4a3",
   "metadata": {},
   "source": [
    "In the last two lines we see that `miles` and `kms` are out of sync.\n",
    "\n",
    "What we really want is some mechanism whereby each time a user sets one\n",
    "of these variables, *the other is automatically updated*.\n",
    "\n",
    "#### A Solution\n",
    "\n",
    "In Python, this issue is solved using *descriptors*.\n",
    "\n",
    "A descriptor is just a Python object that implements certain methods.\n",
    "\n",
    "These methods are triggered when the object is accessed through dotted\n",
    "attribute notation.\n",
    "\n",
    "The best way to understand this is to see it in action.\n",
    "\n",
    "Consider this alternative version of the `Car` class"
   ]
  },
  {
   "cell_type": "code",
   "execution_count": null,
   "id": "3b71350b",
   "metadata": {},
   "outputs": [],
   "source": [
    "class Car:\n",
    "\n",
    "    def __init__(self, miles=1000):\n",
    "        self._miles = miles\n",
    "        self._kms = miles * 1.61\n",
    "\n",
    "    def set_miles(self, value):\n",
    "        self._miles = value\n",
    "        self._kms = value * 1.61\n",
    "\n",
    "    def set_kms(self, value):\n",
    "        self._kms = value\n",
    "        self._miles = value / 1.61\n",
    "\n",
    "    def get_miles(self):\n",
    "        return self._miles\n",
    "\n",
    "    def get_kms(self):\n",
    "        return self._kms\n",
    "\n",
    "    miles = property(get_miles, set_miles)\n",
    "    kms = property(get_kms, set_kms)"
   ]
  },
  {
   "cell_type": "markdown",
   "id": "089a68ed",
   "metadata": {},
   "source": [
    "First let\\'s check that we get the desired behavior"
   ]
  },
  {
   "cell_type": "code",
   "execution_count": null,
   "id": "54118534",
   "metadata": {},
   "outputs": [],
   "source": [
    "car = Car()\n",
    "car.miles"
   ]
  },
  {
   "cell_type": "code",
   "execution_count": null,
   "id": "da701c1e",
   "metadata": {},
   "outputs": [],
   "source": [
    "car.miles = 6000\n",
    "car.kms"
   ]
  },
  {
   "cell_type": "markdown",
   "id": "8b65b9f2",
   "metadata": {},
   "source": [
    "Yep, that\\'s what we want --- `car.kms` is automatically updated.\n",
    "\n",
    "#### How it Works\n",
    "\n",
    "The names `_miles` and `_kms` are arbitrary names we are using to store\n",
    "the values of the variables.\n",
    "\n",
    "The objects `miles` and `kms` are *properties*, a common kind of\n",
    "descriptor.\n",
    "\n",
    "The methods `get_miles`, `set_miles`, `get_kms` and `set_kms` define\n",
    "what happens when you get (i.e. access) or set (bind) these variables\n",
    "\n",
    "-   So-called \\\"getter\\\" and \\\"setter\\\" methods.\n",
    "\n",
    "The builtin Python function `property` takes getter and setter methods\n",
    "and creates a property.\n",
    "\n",
    "For example, after `car` is created as an instance of `Car`, the object\n",
    "`car.miles` is a property.\n",
    "\n",
    "Being a property, when we set its value via `car.miles = 6000` its\n",
    "setter method is triggered --- in this case `set_miles`.\n",
    "\n",
    "#### Decorators and Properties\n",
    "\n",
    "These days its very common to see the `property` function used via a\n",
    "decorator.\n",
    "\n",
    "Here\\'s another version of our `Car` class that works as before but now\n",
    "uses decorators to set up the properties"
   ]
  },
  {
   "cell_type": "code",
   "execution_count": null,
   "id": "17547679",
   "metadata": {},
   "outputs": [],
   "source": [
    "class Car:\n",
    "\n",
    "    def __init__(self, miles=1000):\n",
    "        self._miles = miles\n",
    "        self._kms = miles * 1.61\n",
    "\n",
    "    @property\n",
    "    def miles(self):\n",
    "        return self._miles\n",
    "\n",
    "    @property\n",
    "    def kms(self):\n",
    "        return self._kms\n",
    "\n",
    "    @miles.setter\n",
    "    def miles(self, value):\n",
    "        self._miles = value\n",
    "        self._kms = value * 1.61\n",
    "\n",
    "    @kms.setter\n",
    "    def kms(self, value):\n",
    "        self._kms = value\n",
    "        self._miles = value / 1.61"
   ]
  },
  {
   "cell_type": "markdown",
   "id": "761fe4de",
   "metadata": {},
   "source": [
    "We won\\'t go through all the details here.\n",
    "\n",
    "For further information you can refer to the [descriptor documentation](https://docs.python.org/3/howto/descriptor.html).\n",
    "\n",
    "(paf_generators)=\n",
    "\n",
    "## Generators\n",
    "\n",
    "A generator is a kind of iterator (i.e., it works with a `next`\n",
    "function).\n",
    "\n",
    "We will study two ways to build generators: generator expressions and\n",
    "generator functions.\n",
    "\n",
    "### Generator Expressions\n",
    "\n",
    "The easiest way to build generators is using *generator expressions*.\n",
    "\n",
    "Just like a list comprehension, but with round brackets.\n",
    "\n",
    "Here is the list comprehension:"
   ]
  },
  {
   "cell_type": "code",
   "execution_count": null,
   "id": "63bcd3d3",
   "metadata": {},
   "outputs": [],
   "source": [
    "singular = ('dog', 'cat', 'bird')\n",
    "type(singular)"
   ]
  },
  {
   "cell_type": "code",
   "execution_count": null,
   "id": "44518194",
   "metadata": {},
   "outputs": [],
   "source": [
    "plural = [string + 's' for string in singular]\n",
    "plural"
   ]
  },
  {
   "cell_type": "code",
   "execution_count": null,
   "id": "9792e001",
   "metadata": {},
   "outputs": [],
   "source": [
    "type(plural)"
   ]
  },
  {
   "cell_type": "markdown",
   "id": "13c3d1cd",
   "metadata": {},
   "source": [
    "And here is the generator expression"
   ]
  },
  {
   "cell_type": "code",
   "execution_count": null,
   "id": "522fcf66",
   "metadata": {},
   "outputs": [],
   "source": [
    "singular = ('dog', 'cat', 'bird')\n",
    "plural = (string + 's' for string in singular)\n",
    "type(plural)"
   ]
  },
  {
   "cell_type": "code",
   "execution_count": null,
   "id": "2d2df9eb",
   "metadata": {},
   "outputs": [],
   "source": [
    "next(plural)"
   ]
  },
  {
   "cell_type": "code",
   "execution_count": null,
   "id": "5355f96c",
   "metadata": {},
   "outputs": [],
   "source": [
    "next(plural)"
   ]
  },
  {
   "cell_type": "code",
   "execution_count": null,
   "id": "3e233ef3",
   "metadata": {},
   "outputs": [],
   "source": [
    "next(plural)"
   ]
  },
  {
   "cell_type": "markdown",
   "id": "233f69f1",
   "metadata": {},
   "source": [
    "Since `sum()` can be called on iterators, we can do this"
   ]
  },
  {
   "cell_type": "code",
   "execution_count": null,
   "id": "eb55fc5d",
   "metadata": {},
   "outputs": [],
   "source": [
    "sum((x * x for x in range(10)))"
   ]
  },
  {
   "cell_type": "markdown",
   "id": "a39233a8",
   "metadata": {},
   "source": [
    "The function `sum()` calls `next()` to get the items, adds successive\n",
    "terms.\n",
    "\n",
    "In fact, we can omit the outer brackets in this case"
   ]
  },
  {
   "cell_type": "code",
   "execution_count": null,
   "id": "2ef5f51d",
   "metadata": {},
   "outputs": [],
   "source": [
    "sum(x * x for x in range(10))"
   ]
  },
  {
   "cell_type": "markdown",
   "id": "0137b191",
   "metadata": {},
   "source": [
    "### Generator Functions\n",
    "\n",
    "The most flexible way to create generator objects is to use generator\n",
    "functions.\n",
    "\n",
    "Let\\'s look at some examples.\n",
    "\n",
    "#### Example 1\n",
    "\n",
    "Here\\'s a very simple example of a generator function"
   ]
  },
  {
   "cell_type": "code",
   "execution_count": null,
   "id": "d9919836",
   "metadata": {},
   "outputs": [],
   "source": [
    "def f():\n",
    "    yield 'start'\n",
    "    yield 'middle'\n",
    "    yield 'end'"
   ]
  },
  {
   "cell_type": "markdown",
   "id": "65535b22",
   "metadata": {},
   "source": [
    "It looks like a function, but uses a keyword `yield` that we haven\\'t\n",
    "met before.\n",
    "\n",
    "Let\\'s see how it works after running this code"
   ]
  },
  {
   "cell_type": "code",
   "execution_count": null,
   "id": "b1d8f4a6",
   "metadata": {},
   "outputs": [],
   "source": [
    "type(f)"
   ]
  },
  {
   "cell_type": "code",
   "execution_count": null,
   "id": "c62d6e47",
   "metadata": {},
   "outputs": [],
   "source": [
    "gen = f()\n",
    "gen"
   ]
  },
  {
   "cell_type": "code",
   "execution_count": null,
   "id": "5317c1c0",
   "metadata": {},
   "outputs": [],
   "source": [
    "next(gen)"
   ]
  },
  {
   "cell_type": "code",
   "execution_count": null,
   "id": "28cabbe3",
   "metadata": {},
   "outputs": [],
   "source": [
    "next(gen)"
   ]
  },
  {
   "cell_type": "code",
   "execution_count": null,
   "id": "b0e516e0",
   "metadata": {},
   "outputs": [],
   "source": [
    "next(gen)"
   ]
  },
  {
   "cell_type": "code",
   "execution_count": null,
   "id": "dbcb7bb4",
   "metadata": {
    "tags": [
     "raises-exception"
    ]
   },
   "outputs": [],
   "source": [
    "next(gen)"
   ]
  },
  {
   "cell_type": "markdown",
   "id": "898485ca",
   "metadata": {},
   "source": [
    "The generator function `f()` is used to create generator objects (in\n",
    "this case `gen`).\n",
    "\n",
    "Generators are iterators, because they support a `next` method.\n",
    "\n",
    "The first call to `next(gen)`\n",
    "\n",
    "-   Executes code in the body of `f()` until it meets a `yield`\n",
    "    statement.\n",
    "-   Returns that value to the caller of `next(gen)`.\n",
    "\n",
    "The second call to `next(gen)` starts executing *from the next line*"
   ]
  },
  {
   "cell_type": "code",
   "execution_count": null,
   "id": "ecc41286",
   "metadata": {},
   "outputs": [],
   "source": [
    "def f():\n",
    "    yield 'start'\n",
    "    yield 'middle'  # This line!\n",
    "    yield 'end'"
   ]
  },
  {
   "cell_type": "markdown",
   "id": "95384903",
   "metadata": {},
   "source": [
    "and continues until the next `yield` statement.\n",
    "\n",
    "At that point it returns the value following `yield` to the caller of\n",
    "`next(gen)`, and so on.\n",
    "\n",
    "When the code block ends, the generator throws a `StopIteration` error.\n",
    "\n",
    "#### Example 2\n",
    "\n",
    "Our next example receives an argument `x` from the caller"
   ]
  },
  {
   "cell_type": "code",
   "execution_count": null,
   "id": "69e74495",
   "metadata": {},
   "outputs": [],
   "source": [
    "def g(x):\n",
    "    while x < 100:\n",
    "        yield x\n",
    "        x = x * x"
   ]
  },
  {
   "cell_type": "markdown",
   "id": "f2bca837",
   "metadata": {},
   "source": [
    "Let\\'s see how it works"
   ]
  },
  {
   "cell_type": "code",
   "execution_count": null,
   "id": "c6ea2bbf",
   "metadata": {},
   "outputs": [],
   "source": [
    "g"
   ]
  },
  {
   "cell_type": "code",
   "execution_count": null,
   "id": "f277115b",
   "metadata": {},
   "outputs": [],
   "source": [
    "gen = g(2)\n",
    "type(gen)"
   ]
  },
  {
   "cell_type": "code",
   "execution_count": null,
   "id": "95a367bf",
   "metadata": {},
   "outputs": [],
   "source": [
    "next(gen)"
   ]
  },
  {
   "cell_type": "code",
   "execution_count": null,
   "id": "7a0d4edb",
   "metadata": {},
   "outputs": [],
   "source": [
    "next(gen)"
   ]
  },
  {
   "cell_type": "code",
   "execution_count": null,
   "id": "62b1702c",
   "metadata": {},
   "outputs": [],
   "source": [
    "next(gen)"
   ]
  },
  {
   "cell_type": "code",
   "execution_count": null,
   "id": "361e3b49",
   "metadata": {
    "tags": [
     "raises-exception"
    ]
   },
   "outputs": [],
   "source": [
    "next(gen)"
   ]
  },
  {
   "cell_type": "markdown",
   "id": "7be41a1e",
   "metadata": {},
   "source": [
    "The call `gen = g(2)` binds `gen` to a generator.\n",
    "\n",
    "Inside the generator, the name `x` is bound to `2`.\n",
    "\n",
    "When we call `next(gen)`\n",
    "\n",
    "-   The body of `g()` executes until the line `yield x`, and the value\n",
    "    of `x` is returned.\n",
    "\n",
    "Note that value of `x` is retained inside the generator.\n",
    "\n",
    "When we call `next(gen)` again, execution continues *from where it left\n",
    "off*"
   ]
  },
  {
   "cell_type": "code",
   "execution_count": null,
   "id": "ab7e47fd",
   "metadata": {},
   "outputs": [],
   "source": [
    "def g(x):\n",
    "    while x < 100:\n",
    "        yield x\n",
    "        x = x * x  # execution continues from here"
   ]
  },
  {
   "cell_type": "markdown",
   "id": "6a6b3583",
   "metadata": {},
   "source": [
    "When `x < 100` fails, the generator throws a `StopIteration` error.\n",
    "\n",
    "Incidentally, the loop inside the generator can be infinite"
   ]
  },
  {
   "cell_type": "code",
   "execution_count": null,
   "id": "da52f27f",
   "metadata": {},
   "outputs": [],
   "source": [
    "def g(x):\n",
    "    while 1:\n",
    "        yield x\n",
    "        x = x * x"
   ]
  },
  {
   "cell_type": "markdown",
   "id": "2bad6046",
   "metadata": {},
   "source": [
    "### Advantages of Iterators\n",
    "\n",
    "What\\'s the advantage of using an iterator here?\n",
    "\n",
    "Suppose we want to sample a binomial(n,0.5).\n",
    "\n",
    "One way to do it is as follows"
   ]
  },
  {
   "cell_type": "code",
   "execution_count": null,
   "id": "3f062946",
   "metadata": {},
   "outputs": [],
   "source": [
    "import random\n",
    "n = 10000000\n",
    "draws = [random.uniform(0, 1) < 0.5 for i in range(n)]\n",
    "sum(draws)"
   ]
  },
  {
   "cell_type": "markdown",
   "id": "1b87e220",
   "metadata": {},
   "source": [
    "But we are creating two huge lists here, `range(n)` and `draws`.\n",
    "\n",
    "This uses lots of memory and is very slow.\n",
    "\n",
    "If we make `n` even bigger then this happens\n",
    "\n",
    "```python\n",
    "n = 100000000\n",
    "draws = [random.uniform(0, 1) < 0.5 for i in range(n)]\n",
    "```\n",
    "\n",
    "We can avoid these problems using iterators.\n",
    "\n",
    "Here is the generator function"
   ]
  },
  {
   "cell_type": "code",
   "execution_count": null,
   "id": "b4a130a9",
   "metadata": {},
   "outputs": [],
   "source": [
    "def f(n):\n",
    "    i = 1\n",
    "    while i <= n:\n",
    "        yield random.uniform(0, 1) < 0.5\n",
    "        i += 1"
   ]
  },
  {
   "cell_type": "markdown",
   "id": "8f49a9fd",
   "metadata": {},
   "source": [
    "Now let\\'s do the sum"
   ]
  },
  {
   "cell_type": "code",
   "execution_count": null,
   "id": "af4a09d0",
   "metadata": {},
   "outputs": [],
   "source": [
    "n = 10000000\n",
    "draws = f(n)\n",
    "draws"
   ]
  },
  {
   "cell_type": "code",
   "execution_count": null,
   "id": "1bbdd660",
   "metadata": {},
   "outputs": [],
   "source": [
    "sum(draws)"
   ]
  },
  {
   "cell_type": "markdown",
   "id": "15c39569",
   "metadata": {},
   "source": [
    "In summary, iterables\n",
    "\n",
    "-   avoid the need to create big lists/tuples, and\n",
    "-   provide a uniform interface to iteration that can be used\n",
    "    transparently in `for` loops\n",
    "\n",
    "(recursive_functions)=\n",
    "\n",
    "## Recursive Function Calls\n",
    "\n",
    "This is not something that you will use every day, but it is still\n",
    "useful --- you should learn it at some stage.\n",
    "\n",
    "Basically, a recursive function is a function that calls itself.\n",
    "\n",
    "For example, consider the problem of computing $x_t$ for some t when\n",
    "\n",
    "$$\n",
    "x_{t+1} = 2 x_t, \\quad x_0 = 1\n",
    "$$\n",
    "\n",
    "Obviously the answer is $2^t$.\n",
    "\n",
    "We can compute this easily enough with a loop"
   ]
  },
  {
   "cell_type": "code",
   "execution_count": null,
   "id": "26c5b85a",
   "metadata": {},
   "outputs": [],
   "source": [
    "def x_loop(t):\n",
    "    x = 1\n",
    "    for i in range(t):\n",
    "        x = 2 * x\n",
    "    return x"
   ]
  },
  {
   "cell_type": "markdown",
   "id": "4770a378",
   "metadata": {},
   "source": [
    "We can also use a recursive solution, as follows"
   ]
  },
  {
   "cell_type": "code",
   "execution_count": null,
   "id": "55044d79",
   "metadata": {},
   "outputs": [],
   "source": [
    "def x(t):\n",
    "    if t == 0:\n",
    "        return 1\n",
    "    else:\n",
    "        return 2 * x(t-1)"
   ]
  },
  {
   "cell_type": "markdown",
   "id": "7686279b",
   "metadata": {},
   "source": [
    "What happens here is that each successive call uses it\\'s own *frame* in\n",
    "the *stack*\n",
    "\n",
    "-   a frame is where the local variables of a given function call are held\n",
    "-   stack is memory used to process function calls\n",
    "    -   a First In Last Out (FILO) queue\n",
    "\n",
    "This example is somewhat contrived, since the first (iterative) solution\n",
    "would usually be preferred to the recursive solution.\n",
    "\n",
    "We\\'ll meet less contrived applications of recursion later on.\n",
    "\n",
    "## Exercises\n",
    "\n",
    "### Exercise 1\n",
    "\n",
    "The Fibonacci numbers are defined by\n",
    "\n",
    "$$\n",
    "x_{t+1} = x_t + x_{t-1}, \\quad x_0 = 0, \\; x_1 = 1\n",
    "$$\n",
    "\n",
    "The first few numbers in the sequence are\n",
    "$0, 1, 1, 2, 3, 5, 8, 13, 21, 34, 55$.\n",
    "\n",
    "Write a function to recursively compute the $t$-th Fibonacci number for\n",
    "any $t$.\n",
    "\n",
    "### Exercise 2\n",
    "\n",
    "Complete the following code, and test it using [this csv\n",
    "file](https://raw.githubusercontent.com/QuantEcon/lecture-source-py/master/source/_static/lecture_specific/python_advanced_features/test_table.csv),\n",
    "which we assume that you\\'ve put in your current working directory\n",
    "\n",
    "```python\n",
    "def column_iterator(target_file, column_number):\n",
    "    \"\"\"A generator function for CSV files.\n",
    "    When called with a file name target_file (string) and column number\n",
    "    column_number (integer), the generator function returns a generator\n",
    "    that steps through the elements of column column_number in file\n",
    "    target_file.\n",
    "    \"\"\"\n",
    "    # put your code here\n",
    "\n",
    "dates = column_iterator('test_table.csv', 1)\n",
    "\n",
    "for date in dates:\n",
    "    print(date)\n",
    "```\n",
    "\n",
    "### Exercise 3\n",
    "\n",
    "Suppose we have a text file `numbers.txt` containing the following lines\n",
    "\n",
    "```{code-block} none\n",
    "prices\n",
    "3\n",
    "8\n",
    "\n",
    "7\n",
    "21\n",
    "```\n",
    "\n",
    "Using `try` -- `except`, write a program to read in the contents of the\n",
    "file and sum the numbers, ignoring lines without numbers.\n",
    "\n",
    "## Solutions\n",
    "\n",
    "### Exercise 1\n",
    "\n",
    "Here\\'s the standard solution"
   ]
  },
  {
   "cell_type": "code",
   "execution_count": null,
   "id": "3cc4be49",
   "metadata": {},
   "outputs": [],
   "source": [
    "def x(t):\n",
    "    if t == 0:\n",
    "        return 0\n",
    "    if t == 1:\n",
    "        return 1\n",
    "    else:\n",
    "        return x(t-1) + x(t-2)"
   ]
  },
  {
   "cell_type": "markdown",
   "id": "663a7818",
   "metadata": {},
   "source": [
    "Let\\'s test it"
   ]
  },
  {
   "cell_type": "code",
   "execution_count": null,
   "id": "1ae861d1",
   "metadata": {},
   "outputs": [],
   "source": [
    "print([x(i) for i in range(10)])"
   ]
  },
  {
   "cell_type": "markdown",
   "id": "249832ba",
   "metadata": {},
   "source": [
    "### Exercise 2\n",
    "\n",
    "One solution is as follows\n",
    "\n",
    "<!-- ```{code-cell} ipython3\n",
    "def column_iterator(target_file, column_number):\n",
    "    \"\"\"A generator function for CSV files.\n",
    "    When called with a file name target_file (string) and column number \n",
    "    column_number (integer), the generator function returns a generator \n",
    "    which steps through the elements of column column_number in file\n",
    "    target_file.\n",
    "    \"\"\"\n",
    "    f = open(target_file, 'r')\n",
    "    for line in f:\n",
    "        yield line.split(',')[column_number - 1]\n",
    "    f.close()\n",
    "\n",
    "dates = column_iterator('test_table.csv', 1) \n",
    "\n",
    "i = 1\n",
    "for date in dates:\n",
    "    print(date)\n",
    "    if i == 10:\n",
    "        break\n",
    "    i += 1\n",
    "``` -->\n",
    "\n",
    "### Exercise 3\n",
    "\n",
    "<!-- Let\\'s save the data first\n",
    "\n",
    "```{code-cell} ipython3\n",
    "%%file numbers.txt\n",
    "prices\n",
    "3\n",
    "8\n",
    "\n",
    "7\n",
    "21\n",
    "```\n",
    "\n",
    "```{code-cell} ipython3\n",
    "f = open('numbers.txt')\n",
    "\n",
    "total = 0.0 \n",
    "for line in f:\n",
    "    try:\n",
    "        total += float(line)\n",
    "    except ValueError:\n",
    "        pass\n",
    "\n",
    "f.close()\n",
    "\n",
    "print(total)\n",
    "``` -->"
   ]
  }
 ],
 "metadata": {
  "jupytext": {
   "text_representation": {
    "extension": ".md",
    "format_name": "myst"
   }
  },
  "kernelspec": {
   "display_name": "Python 3",
   "language": "python",
   "name": "python3"
  },
  "source_map": [
   10,
   89,
   94,
   96,
   167,
   170,
   176,
   181,
   185,
   196,
   201,
   206,
   210,
   214,
   218,
   224,
   228,
   244,
   249,
   254,
   256,
   260,
   266,
   270,
   280,
   282,
   301,
   309,
   311,
   324,
   329,
   331,
   342,
   344,
   465,
   467,
   558,
   563,
   567,
   569,
   583,
   587,
   589,
   593,
   595,
   600,
   604,
   606,
   640,
   647,
   723,
   730,
   748,
   755,
   811,
   816,
   853,
   857,
   861,
   865,
   869,
   873,
   877,
   882,
   896,
   903,
   907,
   911,
   915,
   917,
   926,
   935,
   939,
   943,
   947,
   949,
   953,
   960,
   964,
   968,
   972,
   974,
   978,
   985,
   1014,
   1024,
   1043,
   1055,
   1075,
   1093,
   1120,
   1123,
   1131,
   1140,
   1144,
   1152,
   1178,
   1186,
   1191,
   1196,
   1200,
   1203,
   1223,
   1246,
   1250,
   1255,
   1258,
   1292,
   1316,
   1340,
   1345,
   1350,
   1352,
   1356,
   1362,
   1366,
   1370,
   1372,
   1376,
   1378,
   1385,
   1387,
   1400,
   1405,
   1412,
   1416,
   1421,
   1425,
   1429,
   1433,
   1437,
   1452,
   1457,
   1470,
   1475,
   1479,
   1483,
   1488,
   1492,
   1496,
   1500,
   1504,
   1520,
   1525,
   1531,
   1536,
   1546,
   1551,
   1568,
   1574,
   1578,
   1584,
   1586,
   1613,
   1619,
   1623,
   1629,
   1703,
   1711,
   1715,
   1717
  ]
 },
 "nbformat": 4,
 "nbformat_minor": 5
}