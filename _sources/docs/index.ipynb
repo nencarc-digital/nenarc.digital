{
 "cells": [
  {
   "cell_type": "markdown",
   "id": "a851ae23",
   "metadata": {},
   "source": [
    "# NENCARC Example Project\n",
    "\n",
    "This is an example project designed and written by Conor Wall.\n",
    "\n",
    "This will include additional information when required. The Github repo can be found [here](https://github.com/nencarc-digital/template).\n",
    "\n",
    "```{figure} /_static/lecture_specific/index/banner.jpeg\n",
    ":scale: 45%\n",
    "```\n",
    "\n",
    "## Overview\n",
    "\n",
    "This section will cover how to create your own book using this template. \n",
    "\n",
    "You will need a GitHub account setup for this process (if not using the nencarc.digital@gmail.com account) which can be done by clicking on this [link](https://github.com/join).\n",
    "\n",
    "You will learn how to\n",
    "\n",
    "1.  install the relevant packages required for github\n",
    "2.  setup a new github repository and github page\n",
    "3.  add/edit/delete content from the book \n",
    "4.  push the content to the github repository and live github page \n",
    "\n",
    "### Packages Needed\n",
    "\n",
    "To begin, Git is required to be installed on your system. Depending if you are on a Windows device or MAC OS device, there are different installation methods to use. \n",
    "\n",
    "### Anaconda Installation (Windows Only)\n",
    "\n",
    "Although the use of Git is possible without any python installation, the use of a python environment manager ensures the process is a lot simpler and more convenient. \n",
    "\n",
    "Therefore, on a Windows machine the installation of Anaconda is required. \n",
    "\n",
    "The link to the download page can be found [here](https://repo.anaconda.com/archive/Anaconda3-2022.05-Windows-x86_64.exe). The following screenshots will help you with the installation process.\n",
    "\n",
    "#### Windows Installation\n",
    "\n",
    "For Windows, the following [link](https://github.com/git-for-windows/git/releases/download/v2.37.3.windows.1/Git-2.37.3-32-bit.exe) will lead you to the installation package. \n",
    "\n",
    "Two additional packages require installation, GHP-Import and JupyterLab."
   ]
  },
  {
   "cell_type": "code",
   "execution_count": null,
   "id": "c6699b4a",
   "metadata": {},
   "outputs": [],
   "source": [
    "conda install -c conda-forge ghp-import"
   ]
  },
  {
   "cell_type": "code",
   "execution_count": null,
   "id": "cb0ef7e5",
   "metadata": {},
   "outputs": [],
   "source": [
    "conda install -c conda-forge jupyterlab"
   ]
  },
  {
   "cell_type": "markdown",
   "id": "7a672c65",
   "metadata": {},
   "source": [
    "#### Mac OS Installation\n",
    "\n",
    "For Mac OS, I would recommend the use of Homebrew for the installation, which can be installed via entering the following code into terminal."
   ]
  },
  {
   "cell_type": "code",
   "execution_count": null,
   "id": "9156149b",
   "metadata": {},
   "outputs": [],
   "source": [
    "/bin/bash -c \"$(curl -fsSL https://raw.githubusercontent.com/Homebrew/install/HEAD/install.sh)\""
   ]
  },
  {
   "cell_type": "markdown",
   "id": "359a78a7",
   "metadata": {},
   "source": [
    "Once Homebrew is installed, git can then be installed via the following command."
   ]
  },
  {
   "cell_type": "code",
   "execution_count": null,
   "id": "cef6b087",
   "metadata": {},
   "outputs": [],
   "source": [
    "brew install git."
   ]
  },
  {
   "cell_type": "markdown",
   "id": "f959ebca",
   "metadata": {},
   "source": [
    "Two additional packages require installation, GHP-Import and JupyterLab."
   ]
  },
  {
   "cell_type": "code",
   "execution_count": null,
   "id": "8139bc85",
   "metadata": {},
   "outputs": [],
   "source": [
    "pip install ghp-import"
   ]
  },
  {
   "cell_type": "code",
   "execution_count": null,
   "id": "927e1680",
   "metadata": {},
   "outputs": [],
   "source": [
    "pip install jupyterlab"
   ]
  },
  {
   "cell_type": "markdown",
   "id": "a6e5d3a6",
   "metadata": {},
   "source": [
    "### Setting Up New Page\n",
    "\n",
    "#### Downloading Template\n",
    "\n",
    "Download the template zip file from GitHub using this [link](https://github.com/nencarc-digital/template/raw/main/book/_static/lecture_specific/index/template.zip). Unzip the file and then export the folder to a desired location and save the folder name.\n",
    "\n",
    "#### Creating New Repository \n",
    "\n",
    "Sign into GitHub using the user credentials. Create a new repository using the following screenshots as a guide. \n",
    "\n",
    "Click on the button in the red circle.\n",
    "\n",
    "```{figure} /_static/lecture_specific/index/screenshot1.png\n",
    ":scale: 25%\n",
    "```\n",
    "\n",
    "Enter a repository name and click on the 'Add a README File' checkbox.\n",
    "\n",
    "```{figure} /_static/lecture_specific/index/screenshot2.png\n",
    ":scale: 25%\n",
    "```\n",
    "\n",
    "Click on the 'Create Repository' Button.\n",
    "\n",
    "```{figure} /_static/lecture_specific/index/screenshot3.png\n",
    ":scale: 25%\n",
    "```\n",
    "\n",
    "#### Configuring Repository \n",
    "\n",
    "GitHub Pages is required to be enabled within each repository. To achieve this, use the following screenshots as a guide.\n",
    "\n",
    "First click onto the repository.\n",
    "\n",
    "```{figure} /_static/lecture_specific/index/screenshot4.png\n",
    ":scale: 25%\n",
    "```\n",
    "\n",
    "Click on the repository settings.\n",
    "\n",
    "```{figure} /_static/lecture_specific/index/screenshot5.png\n",
    ":scale: 25%\n",
    "```\n",
    "\n",
    "Click on 'Pages'.\n",
    "\n",
    "```{figure} /_static/lecture_specific/index/screenshot6.png\n",
    ":scale: 25%\n",
    "```\n",
    "\n",
    "To enable GitHub Pages, click on 'None'.\n",
    "\n",
    "```{figure} /_static/lecture_specific/index/screenshot7.png\n",
    ":scale: 25%\n",
    "```\n",
    "\n",
    "Then proceed to click on 'Main'. This source will change to 'gh-pages' at a later date but for now but 'Main' is the only option.\n",
    "\n",
    "```{figure} /_static/lecture_specific/index/screenshot8.png\n",
    ":scale: 25%\n",
    "```\n",
    "\n",
    "Following this step, GitHub Pages is enabled.\n",
    "\n",
    "#### Setting Up Github Credentials\n",
    "\n",
    "To perform any Git related actions on terminal, it is required that your Github credentials are verified first. \n",
    "\n",
    "Enter your Github username first, which in our case as an example is the 'nencarc-digital'."
   ]
  },
  {
   "cell_type": "code",
   "execution_count": null,
   "id": "2ac510dd",
   "metadata": {},
   "outputs": [],
   "source": [
    "git config --global user.name nencarc-digital"
   ]
  },
  {
   "cell_type": "markdown",
   "id": "7cc1c087",
   "metadata": {},
   "source": [
    "Then enter your Github email, which  in our case will be 'nencarc.digital@gmail.com'."
   ]
  },
  {
   "cell_type": "code",
   "execution_count": null,
   "id": "4dfa0b9c",
   "metadata": {},
   "outputs": [],
   "source": [
    "git config --global user.name nencarc.digital@gmail.com"
   ]
  },
  {
   "cell_type": "markdown",
   "id": "8887f472",
   "metadata": {},
   "source": [
    "```{figure} /_static/lecture_specific/index/screenshot12.png\n",
    ":scale: 45%\n",
    "```\n",
    "\n",
    "At this stage it may ask for your Github password, which will be sent privately. If this does not work, a Github personal access token may be required. It also may ask for your password at a later stage, for example, when pushing to the repository. Here is an example of what that may look like.\n",
    "\n",
    "```{figure} /_static/lecture_specific/index/screenshot21.png\n",
    ":scale: 45%\n",
    "```\n",
    "\n",
    "#### Generating Personal Access Token\n",
    "\n",
    "Click on the user icon in the top right and then click on settings. \n",
    "\n",
    "```{figure} /_static/lecture_specific/index/screenshot14.png\n",
    ":scale: 25%\n",
    "```\n",
    "\n",
    "Scroll down to the bottom of the page and click 'Developer Options' on the left-hand side.\n",
    "\n",
    "```{figure} /_static/lecture_specific/index/screenshot15.png\n",
    ":scale: 25%\n",
    "```\n",
    "\n",
    "Click on 'Personal access tokens'.\n",
    "\n",
    "```{figure} /_static/lecture_specific/index/screenshot16.png\n",
    ":scale: 25%\n",
    "```\n",
    "\n",
    "Click 'Generate new token'\n",
    "\n",
    "```{figure} /_static/lecture_specific/index/screenshot17.png\n",
    ":scale: 25%\n",
    "```\n",
    "\n",
    "Enter a token note. \n",
    "\n",
    "```{figure} /_static/lecture_specific/index/screenshot18.png\n",
    ":scale: 25%\n",
    "```\n",
    "\n",
    "Check every box and click on the 'Generate token' button. \n",
    "\n",
    "```{figure} /_static/lecture_specific/index/screenshot19.png\n",
    ":scale: 25%\n",
    "```\n",
    "\n",
    "A new token should be generated in the red circle. For the sake of security, the token created in this example is covered by a red rectangle. Paste this new password in the terminal if prompted by an error previously.\n",
    "\n",
    "```{figure} /_static/lecture_specific/index/screenshot20.png\n",
    ":scale: 25%\n",
    "```\n",
    "\n",
    "#### Setting Up New Page With Template\n",
    "\n",
    "To upload the template to the new GitHub Page, you first need to clone the new repository. This should be done using the terminal/Git Bash terminal depending if you are on Mac OS or Windows. \n",
    "\n",
    "First, you need the corrent link to clone the repository. On the repository main page, click on the 'Code' button. \n",
    "\n",
    "```{figure} /_static/lecture_specific/index/screenshot9.png\n",
    ":scale: 25%\n",
    "```\n",
    "\n",
    "Then click on 'HTTPS' and then copy the link via the button on the right circled. \n",
    "\n",
    "```{figure} /_static/lecture_specific/index/screenshot10.png\n",
    ":scale: 25%\n",
    "```\n",
    "\n",
    "Type 'git clone' and paste the link copied above into the terminal. Your code should look something like this (the repo name being the name you used earlier and not 'testrepo')."
   ]
  },
  {
   "cell_type": "code",
   "execution_count": null,
   "id": "df1b6c12",
   "metadata": {},
   "outputs": [],
   "source": [
    "git clone https://github.com/nencarc-digital/reponame.git"
   ]
  },
  {
   "cell_type": "markdown",
   "id": "489caddd",
   "metadata": {},
   "source": [
    "```{figure} /_static/lecture_specific/index/screenshot11.png\n",
    ":scale: 45%\n",
    "```\n",
    "\n",
    "You should now have a folder in your directory named the same as the repository name. Type 'ls' or 'dir' (depending if you're on MAC OS or Windows) to see new directory.  \n",
    "\n",
    "```{figure} /_static/lecture_specific/index/screenshot23.png\n",
    ":scale: 35%\n",
    "```\n",
    "\n",
    "Replace the contents of that folder with the contents in the 'template' zip file that was downloaded earlier in the tutorial.\n",
    "\n",
    "```{figure} /_static/lecture_specific/index/screenshot24.png\n",
    ":scale: 25%\n",
    "```\n",
    "\n",
    "Change your directory in the terminal to the new repository folder using the 'cd' command."
   ]
  },
  {
   "cell_type": "code",
   "execution_count": null,
   "id": "b4b531ac",
   "metadata": {},
   "outputs": [],
   "source": [
    "cd reponame"
   ]
  },
  {
   "cell_type": "markdown",
   "id": "283d7f39",
   "metadata": {},
   "source": [
    "```{figure} /_static/lecture_specific/index/screenshot25.png\n",
    ":scale: 35%\n",
    "```\n",
    "\n",
    "Type 'ls' or 'dir' again and you should see the contents you've just copied over from the template folder.\n",
    "\n",
    "```{figure} /_static/lecture_specific/index/screenshot26.png\n",
    ":scale: 35%\n",
    "```\n",
    "\n",
    "#### Pushing Changes To Github Repository\n",
    "\n",
    "To upload the updated folder to the GitHub repository, several commands are needed. \n",
    "\n",
    "The first of which is the 'add' command. This command adds all new and changed giles to the staging area."
   ]
  },
  {
   "cell_type": "code",
   "execution_count": null,
   "id": "e14d644e",
   "metadata": {},
   "outputs": [],
   "source": [
    "git add --all"
   ]
  },
  {
   "cell_type": "markdown",
   "id": "7ccd148a",
   "metadata": {},
   "source": [
    "```{figure} /_static/lecture_specific/index/screenshot27.png\n",
    ":scale: 35%\n",
    "```\n",
    "\n",
    "The next command is the 'commit' command. This command commits the changes from the staging area, with a message to detail what the changes are generally speaking. \n",
    "\n",
    "For this example, we use 'initial commit' (use double quotes on windows) as this is this initial commit to the new respository."
   ]
  },
  {
   "cell_type": "code",
   "execution_count": null,
   "id": "666e6de2",
   "metadata": {},
   "outputs": [],
   "source": [
    "git commit -m 'initial commit'"
   ]
  },
  {
   "cell_type": "markdown",
   "id": "cb421a91",
   "metadata": {},
   "source": [
    "```{figure} /_static/lecture_specific/index/screenshot28.png\n",
    ":scale: 35%\n",
    "```\n",
    "\n",
    "The final command is the 'push' command. This command pushes the changes to the GitHub repository to the 'main' branch."
   ]
  },
  {
   "cell_type": "code",
   "execution_count": null,
   "id": "de26410f",
   "metadata": {},
   "outputs": [],
   "source": [
    "git push -u origin main "
   ]
  },
  {
   "cell_type": "markdown",
   "id": "8afef617",
   "metadata": {},
   "source": [
    "```{figure} /_static/lecture_specific/index/screenshot29.png\n",
    ":scale: 35%\n",
    "```\n",
    "\n",
    "The changes should now be pushed to the Github repository.\n",
    "\n",
    "```{figure} /_static/lecture_specific/index/screenshot30.png\n",
    ":scale: 35%\n",
    "```\n",
    "\n",
    "#### Pushing To Live Github Page\n",
    "\n",
    "To push to the live Github page, the book needs to be 'built' first. This is done using the command below which utilises the 'jupyterlabs' packages installed earlier."
   ]
  },
  {
   "cell_type": "code",
   "execution_count": null,
   "id": "7d3ee38b",
   "metadata": {},
   "outputs": [],
   "source": [
    "jb build book/  "
   ]
  },
  {
   "cell_type": "markdown",
   "id": "d964eaf6",
   "metadata": {},
   "source": [
    "```{figure} /_static/lecture_specific/index/screenshot31.png\n",
    ":scale: 35%\n",
    "```\n",
    "\n",
    "The built book is now visable locally using URL shown, which will be different to the URL for your repository."
   ]
  },
  {
   "cell_type": "code",
   "execution_count": null,
   "id": "2dab9f8a",
   "metadata": {},
   "outputs": [],
   "source": [
    "file:///Users/conorwall/reponame/book/_build/html/index.html"
   ]
  },
  {
   "cell_type": "markdown",
   "id": "f41feb29",
   "metadata": {},
   "source": [
    "```{figure} /_static/lecture_specific/index/screenshot32.png\n",
    ":scale: 35%\n",
    "```\n",
    "\n",
    "To push the locally built book to the live Github page, enter the following command."
   ]
  },
  {
   "cell_type": "code",
   "execution_count": null,
   "id": "29aab6e3",
   "metadata": {},
   "outputs": [],
   "source": [
    "ghp-import -n -p -f book/_build/html "
   ]
  },
  {
   "cell_type": "markdown",
   "id": "99f62fa7",
   "metadata": {},
   "source": [
    "```{figure} /_static/lecture_specific/index/screenshot33.png\n",
    ":scale: 35%\n",
    "```\n",
    "\n",
    "This process should take a few minutes to complete but in the Pages settings page, you should see that the website is now live at the specified URL.\n",
    "\n",
    "```{figure} /_static/lecture_specific/index/screenshot34.png\n",
    ":scale: 35%\n",
    "```\n",
    "\n",
    "Here is a screenshot of your new Github Page live!\n",
    "\n",
    "```{figure} /_static/lecture_specific/index/screenshot35.png\n",
    ":scale: 35%\n",
    "```\n",
    "\n",
    "\n",
    "\n",
    "\n",
    "\n",
    "\n",
    "\n",
    "\n",
    "\n",
    "\n",
    "\n",
    "\n",
    "\n",
    "### Adding/Editing/Deleting Content From Page\n",
    "\n",
    "Text will appear here.\n",
    "\n",
    "### Uploading Page Content \n",
    "\n",
    "Text will appear here."
   ]
  }
 ],
 "metadata": {
  "jupytext": {
   "text_representation": {
    "extension": ".md",
    "format_name": "myst"
   }
  },
  "kernelspec": {
   "display_name": "Python 3",
   "language": "python",
   "name": "python3"
  },
  "source_map": [
   10,
   53,
   57,
   59,
   65,
   67,
   71,
   73,
   77,
   81,
   83,
   155,
   157,
   161,
   163,
   237,
   239,
   259,
   261,
   279,
   281,
   291,
   293,
   301,
   303,
   319,
   321,
   329,
   331,
   339,
   341
  ]
 },
 "nbformat": 4,
 "nbformat_minor": 5
}