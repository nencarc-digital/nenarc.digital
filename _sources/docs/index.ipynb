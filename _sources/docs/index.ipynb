{
 "cells": [
  {
   "cell_type": "markdown",
   "id": "926697ba",
   "metadata": {},
   "source": [
    "# NENCARC Example Project\n",
    "\n",
    "This is an example project designed and written by Conor Wall.\n",
    "\n",
    "This will include additional information when required. The Github repo can be found [here](https://github.com/nencarc-digital/template).\n",
    "\n",
    "```{figure} /_static/lecture_specific/index/banner.jpeg\n",
    ":scale: 45%\n",
    "```\n",
    "\n",
    "## Overview\n",
    "\n",
    "This section will cover how to create your own book using this template.\n",
    "\n",
    "You will learn how to\n",
    "\n",
    "1.  install the relevant packages required for github\n",
    "2.  setup a new github repository and github page\n",
    "3.  add/edit/delete content from the book \n",
    "4.  push the content to the github repository and live github page \n",
    "\n",
    "### Packages Needed\n",
    "\n",
    "To begin, git needs to be install on your system. Depending if you are on a Windows device or MAC OS device, there are different installation methods to use. \n",
    "\n",
    "For windows, the following [link](https://github.com/git-for-windows/git/releases/download/v2.37.3.windows.1/Git-2.37.3-32-bit.exe) will lead you to the installation package. \n",
    "\n",
    "For MAC OS, I would recommend the use of Homebrew for the installation, which can be installed via entering the following code into terminal."
   ]
  },
  {
   "cell_type": "code",
   "execution_count": null,
   "id": "658ee09a",
   "metadata": {},
   "outputs": [],
   "source": [
    "/bin/bash -c \"$(curl -fsSL https://raw.githubusercontent.com/Homebrew/install/HEAD/install.sh)\""
   ]
  },
  {
   "cell_type": "markdown",
   "id": "2deebad0",
   "metadata": {},
   "source": [
    "Once Homebrew is installed, git can then be installed via the following command."
   ]
  },
  {
   "cell_type": "code",
   "execution_count": null,
   "id": "07c0426e",
   "metadata": {},
   "outputs": [],
   "source": [
    "brew install git."
   ]
  },
  {
   "cell_type": "markdown",
   "id": "5644bb21",
   "metadata": {},
   "source": [
    "### Setting Up New Page\n",
    "\n",
    "Download the template zip file from GitHub using this [link](https://github.com/nencarc-digital/template/raw/main/book/_static/lecture_specific/index/template.zip). Unzip the file and then export the folder to a desired location and save the folder name.\n",
    "\n",
    "Sign into GitHub using the user credentials. Create a new repository using the following screenshots as a guide. \n",
    "\n",
    "Click on the button in the red circle.\n",
    "\n",
    "```{figure} /_static/lecture_specific/index/screenshot1.jpeg\n",
    ":scale: 30%\n",
    "```\n",
    "\n",
    "Enter a repository name and click on the 'Add a README File' checkbox.\n",
    "\n",
    "```{figure} /_static/lecture_specific/index/screenshot2.jpeg\n",
    ":scale: 30%\n",
    "```\n",
    "\n",
    "Click on the 'Create Repository' Button.\n",
    "\n",
    "```{figure} /_static/lecture_specific/index/screenshot3.jpeg\n",
    ":scale: 30%\n",
    "```\n",
    "\n",
    "### Adding/Editing/Deleting Content From Page\n",
    "\n",
    "Text will appear here.\n",
    "\n",
    "### Uploading Page Content \n",
    "\n",
    "Text will appear here."
   ]
  }
 ],
 "metadata": {
  "jupytext": {
   "text_representation": {
    "extension": ".md",
    "format_name": "myst"
   }
  },
  "kernelspec": {
   "display_name": "Python 3",
   "language": "python",
   "name": "python3"
  },
  "source_map": [
   10,
   41,
   43,
   47,
   49
  ]
 },
 "nbformat": 4,
 "nbformat_minor": 5
}