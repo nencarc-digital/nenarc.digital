{
 "cells": [
  {
   "cell_type": "markdown",
   "id": "e7d0ed1f",
   "metadata": {},
   "source": [
    "# NENCARC Example Project\n",
    "\n",
    "This is an example project designed and written by Conor Wall.\n",
    "\n",
    "This will include additional information when required. The Github repo can be found [here](https://github.com/nencarc-digital/template).\n",
    "\n",
    "```{figure} /_static/lecture_specific/index/banner.jpeg\n",
    ":scale: 45%\n",
    "```\n",
    "\n",
    "## Overview\n",
    "\n",
    "This section will cover how to create your own book using this template. \n",
    "\n",
    "You will need a GitHub account setup for this process (if not using the nencarc.digital@gmail.com account) which can be done by clicking on this [link](https://github.com/join).\n",
    "\n",
    "You will learn how to\n",
    "\n",
    "1.  install the relevant packages required for github\n",
    "2.  setup a new github repository and github page\n",
    "3.  add/edit/delete content from the book \n",
    "4.  push the content to the github repository and live github page \n",
    "\n",
    "### Packages Needed\n",
    "\n",
    "#### Windows Installation\n",
    "\n",
    "##### Anaconda Installation\n",
    "\n",
    "Although the use of Git is possible without any python installation, the use of a python environment manager ensures the process is a lot simpler and more convenient. \n",
    "\n",
    "Therefore, on a Windows machine the installation of Anaconda is required. The link to the download page can be found [here](https://repo.anaconda.com/archive/Anaconda3-2022.05-Windows-x86_64.exe). \n",
    "\n",
    "During the installation process, this option will appear. Choose the 'Register' option.\n",
    "\n",
    "```{figure} /_static/lecture_specific/index/wscreenshot3.png\n",
    ":scale: 55%\n",
    "```\n",
    "\n",
    "Once the installation is finished, Anaconda Prompt is the command line tool you will be using for the development process.\n",
    "\n",
    "```{figure} /_static/lecture_specific/index/wscreenshotanaconda.png\n",
    ":scale: 55%\n",
    "```\n",
    "\n",
    "##### Packages Installation\n",
    "\n",
    "Three packages require installation in Anaconda for Windows, Git, GHP-Import and Jupyter-Books.These can be installed using the code below.\n",
    "\n",
    "Git Installation"
   ]
  },
  {
   "cell_type": "code",
   "execution_count": null,
   "id": "18c7dd42",
   "metadata": {},
   "outputs": [],
   "source": [
    "conda install -c anaconda git"
   ]
  },
  {
   "cell_type": "markdown",
   "id": "80236841",
   "metadata": {},
   "source": [
    "GHP-Import Installation"
   ]
  },
  {
   "cell_type": "code",
   "execution_count": null,
   "id": "4205c0fc",
   "metadata": {},
   "outputs": [],
   "source": [
    "conda install -c conda-forge ghp-import"
   ]
  },
  {
   "cell_type": "markdown",
   "id": "2a5c9b8b",
   "metadata": {},
   "source": [
    "Jupyter-Books Installation"
   ]
  },
  {
   "cell_type": "code",
   "execution_count": null,
   "id": "037c312b",
   "metadata": {},
   "outputs": [],
   "source": [
    "pip install jupyter-book"
   ]
  },
  {
   "cell_type": "markdown",
   "id": "cc3788f3",
   "metadata": {},
   "source": [
    "An error may occur regarding an outdated 'nodejs' installation. This can be sorted through the command below."
   ]
  },
  {
   "cell_type": "code",
   "execution_count": null,
   "id": "abe0ad4d",
   "metadata": {},
   "outputs": [],
   "source": [
    "conda install -c conda-forge nodejs"
   ]
  },
  {
   "cell_type": "markdown",
   "id": "c6df6a68",
   "metadata": {},
   "source": [
    "#### Mac OS Installation\n",
    "\n",
    "For Mac OS, I would recommend the use of Homebrew for the installation, which can be installed via entering the following code into terminal."
   ]
  },
  {
   "cell_type": "code",
   "execution_count": null,
   "id": "f1365485",
   "metadata": {},
   "outputs": [],
   "source": [
    "/bin/bash -c \"$(curl -fsSL https://raw.githubusercontent.com/Homebrew/install/HEAD/install.sh)\""
   ]
  },
  {
   "cell_type": "markdown",
   "id": "8aa3182b",
   "metadata": {},
   "source": [
    "Once Homebrew is installed, git can then be installed via the following command."
   ]
  },
  {
   "cell_type": "code",
   "execution_count": null,
   "id": "376d9e46",
   "metadata": {},
   "outputs": [],
   "source": [
    "brew install git."
   ]
  },
  {
   "cell_type": "markdown",
   "id": "4e423589",
   "metadata": {},
   "source": [
    "Two additional packages require installation, GHP-Import and JupyterLab."
   ]
  },
  {
   "cell_type": "code",
   "execution_count": null,
   "id": "df173ec3",
   "metadata": {},
   "outputs": [],
   "source": [
    "pip install ghp-import"
   ]
  },
  {
   "cell_type": "code",
   "execution_count": null,
   "id": "ab57a742",
   "metadata": {},
   "outputs": [],
   "source": [
    "pip install jupyterlab"
   ]
  },
  {
   "cell_type": "markdown",
   "id": "f3cb3088",
   "metadata": {},
   "source": [
    "### Setting Up New Page\n",
    "\n",
    "#### Downloading Template\n",
    "\n",
    "Download the template zip file from GitHub using this [link](https://github.com/nencarc-digital/template/raw/main/book/_static/lecture_specific/index/template.zip). Unzip the file and then export the folder to a desired location and save the folder name.\n",
    "\n",
    "#### Creating New Repository \n",
    "\n",
    "Sign into GitHub using the user credentials. Create a new repository using the following screenshots as a guide. \n",
    "\n",
    "Click on the button in the red circle.\n",
    "\n",
    "```{figure} /_static/lecture_specific/index/screenshot1.png\n",
    ":scale: 25%\n",
    "```\n",
    "\n",
    "Enter a repository name and click on the 'Add a README File' checkbox.\n",
    "\n",
    "```{figure} /_static/lecture_specific/index/screenshot2.png\n",
    ":scale: 25%\n",
    "```\n",
    "\n",
    "Click on the 'Create Repository' Button.\n",
    "\n",
    "```{figure} /_static/lecture_specific/index/screenshot3.png\n",
    ":scale: 25%\n",
    "```\n",
    "\n",
    "#### Configuring Repository \n",
    "\n",
    "GitHub Pages is required to be enabled within each repository. To achieve this, use the following screenshots as a guide.\n",
    "\n",
    "First click onto the repository.\n",
    "\n",
    "```{figure} /_static/lecture_specific/index/screenshot4.png\n",
    ":scale: 25%\n",
    "```\n",
    "\n",
    "Click on the repository settings.\n",
    "\n",
    "```{figure} /_static/lecture_specific/index/screenshot5.png\n",
    ":scale: 25%\n",
    "```\n",
    "\n",
    "Click on 'Pages'.\n",
    "\n",
    "```{figure} /_static/lecture_specific/index/screenshot6.png\n",
    ":scale: 25%\n",
    "```\n",
    "\n",
    "To enable GitHub Pages, click on 'None'.\n",
    "\n",
    "```{figure} /_static/lecture_specific/index/screenshot7.png\n",
    ":scale: 25%\n",
    "```\n",
    "\n",
    "Then proceed to click on 'Main'. This source will change to 'gh-pages' at a later date but for now but 'Main' is the only option.\n",
    "\n",
    "```{figure} /_static/lecture_specific/index/screenshot8.png\n",
    ":scale: 25%\n",
    "```\n",
    "\n",
    "Following this step, GitHub Pages is enabled.\n",
    "\n",
    "#### Setting Up Github Credentials\n",
    "\n",
    "To perform any Git related actions on terminal, it is required that your Github credentials are verified first. \n",
    "\n",
    "Enter your Github username first, which in our case as an example is the 'nencarc-digital'."
   ]
  },
  {
   "cell_type": "code",
   "execution_count": null,
   "id": "1daa0157",
   "metadata": {},
   "outputs": [],
   "source": [
    "git config --global user.name nencarc-digital"
   ]
  },
  {
   "cell_type": "markdown",
   "id": "a97796d7",
   "metadata": {},
   "source": [
    "Then enter your Github email, which  in our case will be 'nencarc.digital@gmail.com'."
   ]
  },
  {
   "cell_type": "code",
   "execution_count": null,
   "id": "d2db3553",
   "metadata": {},
   "outputs": [],
   "source": [
    "git config --global user.email nencarc.digital@gmail.com"
   ]
  },
  {
   "cell_type": "markdown",
   "id": "76f4b3ee",
   "metadata": {},
   "source": [
    "```{figure} /_static/lecture_specific/index/screenshot12.png\n",
    ":scale: 45%\n",
    "```\n",
    "\n",
    "At this stage it may ask for your Github password, which will be sent privately. If this does not work, a Github personal access token may be required. It also may ask for your password at a later stage, for example, when pushing to the repository. Here is an example of what that may look like.\n",
    "\n",
    "```{figure} /_static/lecture_specific/index/screenshot21.png\n",
    ":scale: 45%\n",
    "```\n",
    "\n",
    "On Windows, this option may appear. Please choose the 'manager-core' option. It may ask you to either 'sign-in' or enter the token which can be generated using the instructions below. Chose the option most convenient to you. \n",
    "\n",
    "```{figure} /_static/lecture_specific/index/wscreenshot10.png\n",
    ":scale: 45%\n",
    "```\n",
    "\n",
    "\n",
    "#### Generating Personal Access Token\n",
    "\n",
    "Click on the user icon in the top right and then click on settings. \n",
    "\n",
    "```{figure} /_static/lecture_specific/index/screenshot14.png\n",
    ":scale: 25%\n",
    "```\n",
    "\n",
    "Scroll down to the bottom of the page and click 'Developer Options' on the left-hand side.\n",
    "\n",
    "```{figure} /_static/lecture_specific/index/screenshot15.png\n",
    ":scale: 25%\n",
    "```\n",
    "\n",
    "Click on 'Personal access tokens'.\n",
    "\n",
    "```{figure} /_static/lecture_specific/index/screenshot16.png\n",
    ":scale: 25%\n",
    "```\n",
    "\n",
    "Click 'Generate new token'\n",
    "\n",
    "```{figure} /_static/lecture_specific/index/screenshot17.png\n",
    ":scale: 25%\n",
    "```\n",
    "\n",
    "Enter a token note. \n",
    "\n",
    "```{figure} /_static/lecture_specific/index/screenshot18.png\n",
    ":scale: 25%\n",
    "```\n",
    "\n",
    "Check every box and click on the 'Generate token' button. \n",
    "\n",
    "```{figure} /_static/lecture_specific/index/screenshot19.png\n",
    ":scale: 25%\n",
    "```\n",
    "\n",
    "A new token should be generated in the red circle. For the sake of security, the token created in this example is covered by a red rectangle. Paste this new password in the terminal if prompted by an error previously.\n",
    "\n",
    "```{figure} /_static/lecture_specific/index/screenshot20.png\n",
    ":scale: 25%\n",
    "```\n",
    "\n",
    "#### Setting Up New Page With Template\n",
    "\n",
    "To upload the template to the new GitHub Page, you first need to clone the new repository. This should be done using the terminal/Anaconda Prompt depending if you are on Mac OS or Windows. \n",
    "\n",
    "First, you need the corrent link to clone the repository. On the repository main page, click on the 'Code' button. \n",
    "\n",
    "```{figure} /_static/lecture_specific/index/screenshot9.png\n",
    ":scale: 25%\n",
    "```\n",
    "\n",
    "Then click on 'HTTPS' and then copy the link via the button on the right circled. \n",
    "\n",
    "```{figure} /_static/lecture_specific/index/screenshot10.png\n",
    ":scale: 45%\n",
    "```\n",
    "\n",
    "Type 'git clone' and paste the link copied above into the terminal. Your code should look something like this (the repo name being the name you used earlier and not 'testrepo')."
   ]
  },
  {
   "cell_type": "code",
   "execution_count": null,
   "id": "05002cb3",
   "metadata": {},
   "outputs": [],
   "source": [
    "git clone https://github.com/nencarc-digital/reponame.git"
   ]
  },
  {
   "cell_type": "markdown",
   "id": "43c4a4fe",
   "metadata": {},
   "source": [
    "```{figure} /_static/lecture_specific/index/screenshot11.png\n",
    ":scale: 45%\n",
    "```\n",
    "\n",
    "You should now have a folder in your directory named the same as the repository name. Type 'ls' or 'dir' (depending if you're on MAC OS or Windows) to see new directory.  \n",
    "\n",
    "```{figure} /_static/lecture_specific/index/screenshot23.png\n",
    ":scale: 35%\n",
    "```\n",
    "\n",
    "Replace the contents of that folder with the contents in the 'template' zip file that was downloaded earlier in the tutorial.\n",
    "\n",
    "```{figure} /_static/lecture_specific/index/screenshot24.png\n",
    ":scale: 25%\n",
    "```\n",
    "\n",
    "Change your directory in the terminal to the new repository folder using the 'cd' command."
   ]
  },
  {
   "cell_type": "code",
   "execution_count": null,
   "id": "7702bea0",
   "metadata": {},
   "outputs": [],
   "source": [
    "cd reponame"
   ]
  },
  {
   "cell_type": "markdown",
   "id": "bfe31ac8",
   "metadata": {},
   "source": [
    "```{figure} /_static/lecture_specific/index/screenshot25.png\n",
    ":scale: 35%\n",
    "```\n",
    "\n",
    "Type 'ls' or 'dir' again and you should see the contents you've just copied over from the template folder.\n",
    "\n",
    "```{figure} /_static/lecture_specific/index/screenshot26.png\n",
    ":scale: 35%\n",
    "```\n",
    "\n",
    "#### Pushing Changes To Github Repository\n",
    "\n",
    "To upload the updated folder to the GitHub repository, several commands are needed. \n",
    "\n",
    "The first of which is the 'add' command. This command adds all new and changed giles to the staging area."
   ]
  },
  {
   "cell_type": "code",
   "execution_count": null,
   "id": "aff207c4",
   "metadata": {},
   "outputs": [],
   "source": [
    "git add --all"
   ]
  },
  {
   "cell_type": "markdown",
   "id": "a8bf776e",
   "metadata": {},
   "source": [
    "```{figure} /_static/lecture_specific/index/screenshot27.png\n",
    ":scale: 35%\n",
    "```\n",
    "\n",
    "The next command is the 'commit' command. This command commits the changes from the staging area, with a message to detail what the changes are generally speaking. \n",
    "\n",
    "For this example, we use 'initial commit' (use double quotes on windows) as this is this initial commit to the new respository."
   ]
  },
  {
   "cell_type": "code",
   "execution_count": null,
   "id": "7cce2c75",
   "metadata": {},
   "outputs": [],
   "source": [
    "git commit -m 'initial commit'"
   ]
  },
  {
   "cell_type": "markdown",
   "id": "d988704e",
   "metadata": {},
   "source": [
    "```{figure} /_static/lecture_specific/index/screenshot28.png\n",
    ":scale: 35%\n",
    "```\n",
    "\n",
    "The final command is the 'push' command. This command pushes the changes to the GitHub repository to the 'main' branch."
   ]
  },
  {
   "cell_type": "code",
   "execution_count": null,
   "id": "d98e712c",
   "metadata": {},
   "outputs": [],
   "source": [
    "git push -u origin main "
   ]
  },
  {
   "cell_type": "markdown",
   "id": "265f2cdb",
   "metadata": {},
   "source": [
    "```{figure} /_static/lecture_specific/index/screenshot29.png\n",
    ":scale: 35%\n",
    "```\n",
    "\n",
    "This may come up with an error on Windows, which may require the use of the command below at this stage."
   ]
  },
  {
   "cell_type": "code",
   "execution_count": null,
   "id": "6546e183",
   "metadata": {},
   "outputs": [],
   "source": [
    "git push "
   ]
  },
  {
   "cell_type": "markdown",
   "id": "742ccb01",
   "metadata": {},
   "source": [
    "The changes should now be pushed to the Github repository.\n",
    "\n",
    "```{figure} /_static/lecture_specific/index/screenshot30.png\n",
    ":scale: 35%\n",
    "```\n",
    "\n",
    "#### Pushing To Live Github Page\n",
    "\n",
    "To push to the live Github page, the book needs to be 'built' first. This is done using the command below which utilises the 'jupyterlabs' packages installed earlier."
   ]
  },
  {
   "cell_type": "code",
   "execution_count": null,
   "id": "dcd19335",
   "metadata": {},
   "outputs": [],
   "source": [
    "jb build book/  "
   ]
  },
  {
   "cell_type": "markdown",
   "id": "0fa95df7",
   "metadata": {},
   "source": [
    "```{figure} /_static/lecture_specific/index/screenshot31.png\n",
    ":scale: 35%\n",
    "```\n",
    "\n",
    "The built book is now visable locally using URL shown, which will be different to the URL for your repository."
   ]
  },
  {
   "cell_type": "code",
   "execution_count": null,
   "id": "8f9b9006",
   "metadata": {},
   "outputs": [],
   "source": [
    "file:///Users/conorwall/reponame/book/_build/html/index.html"
   ]
  },
  {
   "cell_type": "markdown",
   "id": "b2f21694",
   "metadata": {},
   "source": [
    "```{figure} /_static/lecture_specific/index/screenshot32.png\n",
    ":scale: 35%\n",
    "```\n",
    "\n",
    "To push the locally built book to the live Github page, enter the following command."
   ]
  },
  {
   "cell_type": "code",
   "execution_count": null,
   "id": "9af1f60b",
   "metadata": {},
   "outputs": [],
   "source": [
    "ghp-import -n -p -f book/_build/html "
   ]
  },
  {
   "cell_type": "markdown",
   "id": "91e80087",
   "metadata": {},
   "source": [
    "```{figure} /_static/lecture_specific/index/screenshot33.png\n",
    ":scale: 35%\n",
    "```\n",
    "\n",
    "This process should take a few minutes to complete but in the Pages settings page, you should see that the website is now live at the specified URL.\n",
    "\n",
    "```{figure} /_static/lecture_specific/index/screenshot34.png\n",
    ":scale: 35%\n",
    "```\n",
    "\n",
    "If the source has not changed automatically, please change it to 'gh-pages' in the Page settings page like below.\n",
    "\n",
    "```{figure} /_static/lecture_specific/index/screenshot36.png\n",
    ":scale: 35%\n",
    "```\n",
    "\n",
    "Here is a screenshot of your new Github Page live!\n",
    "\n",
    "```{figure} /_static/lecture_specific/index/screenshot35.png\n",
    ":scale: 25%\n",
    "```\n",
    "\n",
    "### Editing Page Content \n",
    "\n",
    "Prior to being able to edit any page content, the installation of a source-code editor is required. There are a number of available options, with my personal preference being Visual Studio code which can be found at this [link](https://code.visualstudio.com/download).\n",
    "\n",
    "Other options include [Notepad++](https://notepad-plus-plus.org/downloads/) and [Sumblime](https://www.sublimetext.com/3).\n",
    "\n",
    "For the sake of convenience, the tutorial will utilise the editor, Visual Studio Code.\n",
    "\n",
    "#### Opening And Explaining Folder Structure\n",
    "\n",
    "The first step is to open the repository folder in your editor of choice. This example is in Visual Studio Code. \n",
    "\n",
    "```{figure} /_static/lecture_specific/index/screenshot37.png\n",
    ":scale: 35%\n",
    "```\n",
    "\n",
    "Select the folder of choice.\n",
    "\n",
    "```{figure} /_static/lecture_specific/index/screenshot38.png\n",
    ":scale: 35%\n",
    "```\n",
    "\n",
    "Below is a general guide of what the important aspects of the folder structure are. \n",
    "\n",
    "```{figure} /_static/lecture_specific/index/Slide1.jpg\n",
    ":scale: 50%\n",
    "```\n",
    "\n",
    "#### Editing Pages\n",
    "\n",
    "As demonstrated above, the pages are contained in the 'docs' folder. There are various types of content that can included on each page. \n",
    "\n",
    "##### General Text\n",
    "\n",
    "Text generally, unlike in HTML, does not require any special tags for the programming language markdown. \n",
    "\n",
    "##### Headings\n",
    "\n",
    "Headings are annotated using the '#' symbol. The less '#' symbols used, the higher the hierarchy of heading. For example, the heading for the entire page would typically use '#', however any subheading after that would require at the very minimum '##'. \n",
    "\n",
    "For any subsection as part of the '##' subsection, they would require an additional symbol, which would result in '###', and so on and so on. \n",
    "\n",
    "##### Hyperlinks \n",
    "\n",
    "Hyperlinks are simple to implement, as they involve square brackets around the word desired to be clickable, and parentheses containing the link. The code below demonstrates this."
   ]
  },
  {
   "cell_type": "code",
   "execution_count": null,
   "id": "1014c449",
   "metadata": {},
   "outputs": [],
   "source": [
    "The Github repo can be found [here](https://github.com/nencarc-digital/template)."
   ]
  },
  {
   "cell_type": "markdown",
   "id": "0abc843e",
   "metadata": {},
   "source": [
    "##### Figures\n",
    "\n",
    "Figures are also simple to implement. All is required is the static link to the image and the scale of the image according to the page. The code below is an example."
   ]
  },
  {
   "cell_type": "code",
   "execution_count": null,
   "id": "3b6fcabb",
   "metadata": {},
   "outputs": [],
   "source": [
    "```{figure} /_static/lecture_specific/index/screenshot38.png\n",
    ":scale: 35%\n",
    "```"
   ]
  },
  {
   "cell_type": "markdown",
   "id": "b22430f9",
   "metadata": {},
   "source": [
    "##### Code Cell \n",
    "\n",
    "To add a code cell to the page, the following command can be used."
   ]
  },
  {
   "cell_type": "code",
   "execution_count": null,
   "id": "0b151d26",
   "metadata": {},
   "outputs": [],
   "source": [
    "```{code-cell} ipython3\n",
    "This is example code.\n",
    "```"
   ]
  },
  {
   "cell_type": "markdown",
   "id": "dfad1227",
   "metadata": {},
   "source": [
    "##### Editing Navigation Bar\n",
    "\n",
    "As shown previously, the '_toc.yml' file contains the details of the navigation bar. \n",
    "\n",
    "```{figure} /_static/lecture_specific/index/screenshot39.png\n",
    ":scale: 45%\n",
    "```\n",
    "\n",
    "The 'caption' is the name of the book, the 'files' are the pages as part of that 'chapter'. These can be edited as you wish. However, to update the contents for the live page, the command below is required before the build command."
   ]
  },
  {
   "cell_type": "code",
   "execution_count": null,
   "id": "b2f7cc1a",
   "metadata": {},
   "outputs": [],
   "source": [
    "jb clean book/"
   ]
  },
  {
   "cell_type": "markdown",
   "id": "3679f880",
   "metadata": {},
   "source": [
    "### General Troubleshooting\n",
    "\n",
    "To change which Github repository you want to work with, the following command can be used. The command below uses an example Github link, use the same link that was used during the cloning repository process."
   ]
  },
  {
   "cell_type": "code",
   "execution_count": null,
   "id": "b973a011",
   "metadata": {},
   "outputs": [],
   "source": [
    "git remote set-url origin https://github.com/user/repo.git"
   ]
  }
 ],
 "metadata": {
  "jupytext": {
   "text_representation": {
    "extension": ".md",
    "format_name": "myst"
   }
  },
  "kernelspec": {
   "display_name": "Python 3",
   "language": "python",
   "name": "python3"
  },
  "source_map": [
   10,
   63,
   65,
   69,
   71,
   75,
   77,
   81,
   83,
   89,
   91,
   95,
   97,
   101,
   105,
   107,
   179,
   181,
   185,
   187,
   268,
   270,
   290,
   292,
   310,
   312,
   322,
   324,
   332,
   334,
   342,
   344,
   356,
   358,
   366,
   368,
   376,
   378,
   448,
   450,
   456,
   460,
   466,
   470,
   482,
   484,
   490
  ]
 },
 "nbformat": 4,
 "nbformat_minor": 5
}