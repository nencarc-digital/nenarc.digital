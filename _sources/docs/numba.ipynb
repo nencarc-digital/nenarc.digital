{
 "cells": [
  {
   "cell_type": "markdown",
   "id": "c25e8b14",
   "metadata": {},
   "source": [
    "<!-- (numba)= -->\n",
    "\n",
    "# Numba\n",
    "\n",
    "In addition to what\\'s in Anaconda, this lecture will need the following\n",
    "libraries:"
   ]
  },
  {
   "cell_type": "code",
   "execution_count": null,
   "id": "ee51d05b",
   "metadata": {
    "tags": [
     "remove-output"
    ]
   },
   "outputs": [],
   "source": [
    "!pip install --upgrade quantecon"
   ]
  },
  {
   "cell_type": "markdown",
   "id": "a820d5ce",
   "metadata": {},
   "source": [
    "Please also make sure that you have the latest version of Anaconda,\n",
    "since old versions are a\n",
    "{ref}`common source of errors <troubleshooting>`.\n",
    "\n",
    "Let\\'s start with some imports:"
   ]
  },
  {
   "cell_type": "code",
   "execution_count": null,
   "id": "205542ad",
   "metadata": {},
   "outputs": [],
   "source": [
    "import numpy as np\n",
    "import quantecon as qe\n",
    "import matplotlib.pyplot as plt\n",
    "\n",
    "%matplotlib inline"
   ]
  },
  {
   "cell_type": "markdown",
   "id": "8b82f144",
   "metadata": {},
   "source": [
    "## Overview\n",
    "\n",
    "In an [earlier lecture](need_for_speed)\n",
    "we learned about vectorization, which is one method to improve speed and\n",
    "efficiency in numerical work.\n",
    "\n",
    "Vectorization involves sending array processing operations in batch to\n",
    "efficient low-level code.\n",
    "\n",
    "However, as\n",
    "{ref}`discussed previously <numba-p_c_vectorization>`, vectorization has several weaknesses.\n",
    "\n",
    "One is that it is highly memory-intensive when working with large\n",
    "amounts of data.\n",
    "\n",
    "Another is that the set of algorithms that can be entirely vectorized is\n",
    "not universal.\n",
    "\n",
    "In fact, for some algorithms, vectorization is ineffective.\n",
    "\n",
    "Fortunately, a new Python library called\n",
    "[Numba](http://numba.pydata.org/) solves many of these problems.\n",
    "\n",
    "It does so through something called **just in time (JIT) compilation**.\n",
    "\n",
    "The key idea is to compile functions to native machine code instructions\n",
    "on the fly.\n",
    "\n",
    "When it succeeds, the compiled code is extremely fast.\n",
    "\n",
    "Numba is specifically designed for numerical work and can also do other\n",
    "tricks such as\n",
    "[multithreading](https://en.wikipedia.org/wiki/Multithreading_(computer_architecture)).\n",
    "\n",
    "Numba will be a key part of our lectures --- especially those lectures\n",
    "involving dynamic programming.\n",
    "\n",
    "This lecture introduces the main ideas.\n",
    "\n",
    "(numba_link)=\n",
    "\n",
    "## Compiling Functions\n",
    "\n",
    "As stated above, Numba\\'s primary use is compiling functions to fast\n",
    "native machine code during runtime.\n",
    "\n",
    "(quad_map_eg)=\n",
    "\n",
    "### An Example\n",
    "\n",
    "Let\\'s consider a problem that is difficult to vectorize: generating the\n",
    "trajectory of a difference equation given an initial condition.\n",
    "\n",
    "We will take the difference equation to be the quadratic map\n",
    "\n",
    "$$\n",
    "x_{t+1} = \\alpha x_t (1 - x_t)\n",
    "$$\n",
    "\n",
    "In what follows we set"
   ]
  },
  {
   "cell_type": "code",
   "execution_count": null,
   "id": "0ba28a79",
   "metadata": {},
   "outputs": [],
   "source": [
    "α = 4.0"
   ]
  },
  {
   "cell_type": "markdown",
   "id": "0c3a37fb",
   "metadata": {},
   "source": [
    "Here\\'s the plot of a typical trajectory, starting from $x_0 = 0.1$,\n",
    "with $t$ on the x-axis"
   ]
  },
  {
   "cell_type": "code",
   "execution_count": null,
   "id": "9e084487",
   "metadata": {},
   "outputs": [],
   "source": [
    "def qm(x0, n):\n",
    "    x = np.empty(n+1)\n",
    "    x[0] = x0 \n",
    "    for t in range(n):\n",
    "      x[t+1] = α * x[t] * (1 - x[t])\n",
    "    return x\n",
    "\n",
    "x = qm(0.1, 250)\n",
    "fig, ax = plt.subplots()\n",
    "ax.plot(x, 'b-', lw=2, alpha=0.8)\n",
    "ax.set_xlabel('$t$', fontsize=12)\n",
    "ax.set_ylabel('$x_{t}$', fontsize = 12)\n",
    "plt.show()"
   ]
  },
  {
   "cell_type": "markdown",
   "id": "5b596e35",
   "metadata": {},
   "source": [
    "Notice the “chaotic” nature of the trajectory — an excellent discussion of these kinds of systems can be found in {cite}`lasota2013chaos`.\n",
    "\n",
    "To speed the function `qm` up using Numba, our first step is"
   ]
  },
  {
   "cell_type": "code",
   "execution_count": null,
   "id": "bdd32473",
   "metadata": {},
   "outputs": [],
   "source": [
    "from numba import jit\n",
    "\n",
    "qm_numba = jit(qm)  "
   ]
  },
  {
   "cell_type": "markdown",
   "id": "0405c870",
   "metadata": {},
   "source": [
    "The function `qm_numba` is a version of `qm` that is \\\"targeted\\\" for\n",
    "JIT-compilation.\n",
    "\n",
    "We will explain what this means momentarily.\n",
    "\n",
    "Let\\'s time and compare identical function calls across these two\n",
    "versions, starting with the original function `qm`:"
   ]
  },
  {
   "cell_type": "code",
   "execution_count": null,
   "id": "83ebb8d0",
   "metadata": {},
   "outputs": [],
   "source": [
    "n = 10_000_000\n",
    "\n",
    "qe.tic()\n",
    "qm(0.1, int(n))\n",
    "time1 = qe.toc()"
   ]
  },
  {
   "cell_type": "markdown",
   "id": "f7603db7",
   "metadata": {},
   "source": [
    "Now let\\'s try `qm\\_numba`"
   ]
  },
  {
   "cell_type": "code",
   "execution_count": null,
   "id": "adb8df38",
   "metadata": {},
   "outputs": [],
   "source": [
    "qe.tic()\n",
    "qm_numba(0.1, int(n))\n",
    "time2 = qe.toc()"
   ]
  },
  {
   "cell_type": "markdown",
   "id": "dfb35609",
   "metadata": {},
   "source": [
    "This is already a massive speed gain.\n",
    "\n",
    "In fact, the next time and all subsequent times it runs even faster as\n",
    "the function has been compiled and is in memory:\n",
    "\n",
    "(qm_numba_result)="
   ]
  },
  {
   "cell_type": "code",
   "execution_count": null,
   "id": "ce190f91",
   "metadata": {},
   "outputs": [],
   "source": [
    "qe.tic()\n",
    "qm_numba(0.1, int(n))\n",
    "time3 = qe.toc()"
   ]
  },
  {
   "cell_type": "code",
   "execution_count": null,
   "id": "c557dd56",
   "metadata": {},
   "outputs": [],
   "source": [
    "time1 / time3  # Calculate speed gain"
   ]
  },
  {
   "cell_type": "markdown",
   "id": "25d8d20c",
   "metadata": {},
   "source": [
    "This kind of speed gain is huge relative to how simple and clear the\n",
    "implementation is.\n",
    "\n",
    "### How and When it Works\n",
    "\n",
    "Numba attempts to generate fast machine code using the infrastructure\n",
    "provided by the [LLVM Project](http://llvm.org/).\n",
    "\n",
    "It does this by inferring type information on the fly.\n",
    "\n",
    "(See our [earlier lecture](need_for_speed) on scientific computing for a discussion of types.)\n",
    "\n",
    "The basic idea is this:\n",
    "\n",
    "-   Python is very flexible and hence we could call the function\n",
    "    [qm]{.title-ref} with many types.\n",
    "    -   e.g., `x0` could be a NumPy array or a list, `n` could be an integer or a float, etc.\n",
    "-   This makes it hard to *pre*-compile the function.\n",
    "-   However, when we do actually call the function, say by executing\n",
    "    `qm(0.5, 10)`, the types of `x0` and `n` become clear.\n",
    "-   Moreover, the types of other variables in `qm` can be inferred once\n",
    "    the input is known.\n",
    "-   So the strategy of Numba and other JIT compilers is to wait until\n",
    "    this moment, and *then* compile the function.\n",
    "\n",
    "That\\'s why it is called \\\"just-in-time\\\" compilation.\n",
    "\n",
    "Note that, if you make the call `qm(0.5, 10)` and then follow it with\n",
    "`qm(0.9, 20)`, compilation only takes place on the first call.\n",
    "\n",
    "The compiled code is then cached and recycled as required.\n",
    "\n",
    "## Decorators and \\\"nopython\\\" Mode\n",
    "\n",
    "In the code above we created a JIT compiled version of `qm` via the call"
   ]
  },
  {
   "cell_type": "code",
   "execution_count": null,
   "id": "359cf811",
   "metadata": {},
   "outputs": [],
   "source": [
    "qm_numba = jit(qm)  "
   ]
  },
  {
   "cell_type": "markdown",
   "id": "1a77bf78",
   "metadata": {},
   "source": [
    "In practice this would typically be done using an alternative\n",
    "*decorator* syntax.\n",
    "\n",
    "(We will explain all about decorators in a\n",
    "{ref}`later lecture <python_advanced_features>`\n",
    "but you can skip the details at this stage.)\n",
    "\n",
    "Let\\'s see how this is done.\n",
    "\n",
    "### Decorator Notation\n",
    "\n",
    "To target a function for JIT compilation we can put `@jit` before the\n",
    "function definition.\n",
    "\n",
    "Here\\'s what this looks like for `qm`"
   ]
  },
  {
   "cell_type": "code",
   "execution_count": null,
   "id": "99570d15",
   "metadata": {},
   "outputs": [],
   "source": [
    "@jit\n",
    "def qm(x0, n):\n",
    "    x = np.empty(n+1)\n",
    "    x[0] = x0\n",
    "    for t in range(n):\n",
    "        x[t+1] = α * x[t] * (1 - x[t])\n",
    "    return x"
   ]
  },
  {
   "cell_type": "markdown",
   "id": "86a38015",
   "metadata": {},
   "source": [
    "This is equivalent to `qm = jit(qm)`.\n",
    "\n",
    "The following now uses the jitted version:"
   ]
  },
  {
   "cell_type": "code",
   "execution_count": null,
   "id": "e649603e",
   "metadata": {},
   "outputs": [],
   "source": [
    "qm(0.1, 10)"
   ]
  },
  {
   "cell_type": "markdown",
   "id": "2b47d558",
   "metadata": {},
   "source": [
    "### Type Inference and \\\"nopython\\\" Mode\n",
    "\n",
    "Clearly type inference is a key part of JIT compilation.\n",
    "\n",
    "As you can imagine, inferring types is easier for simple Python objects\n",
    "(e.g., simple scalar data types such as floats and integers).\n",
    "\n",
    "Numba also plays well with NumPy arrays.\n",
    "\n",
    "In an ideal setting, Numba can infer all necessary type information.\n",
    "\n",
    "This allows it to generate native machine code, without having to call\n",
    "the Python runtime environment.\n",
    "\n",
    "In such a setting, Numba will be on par with machine code from low-level\n",
    "languages.\n",
    "\n",
    "When Numba cannot infer all type information, some Python objects are\n",
    "given generic object status and execution falls back to the Python\n",
    "runtime.\n",
    "\n",
    "When this happens, Numba provides only minor speed gains or none at all.\n",
    "\n",
    "We generally prefer to force an error when this occurs, so we know\n",
    "effective compilation is failing.\n",
    "\n",
    "This is done by using either `@jit(nopython=True)` or, equivalently,\n",
    "`@njit` instead of `@jit`.\n",
    "\n",
    "For example,"
   ]
  },
  {
   "cell_type": "code",
   "execution_count": null,
   "id": "16b7f198",
   "metadata": {},
   "outputs": [],
   "source": [
    "from numba import njit\n",
    "\n",
    "@njit\n",
    "def qm(x0, n):\n",
    "    x = np.empty(n+1)\n",
    "    x[0] = x0\n",
    "    for t in range(n):\n",
    "        x[t+1] = 4 * x[t] * (1 - x[t])\n",
    "    return x"
   ]
  },
  {
   "cell_type": "markdown",
   "id": "18ce9ed6",
   "metadata": {},
   "source": [
    "## Compiling Classes\n",
    "\n",
    "As mentioned above, at present Numba can only compile a subset of\n",
    "Python.\n",
    "\n",
    "However, that subset is ever expanding.\n",
    "\n",
    "For example, Numba is now quite effective at compiling classes.\n",
    "\n",
    "If a class is successfully compiled, then its methods act as\n",
    "JIT-compiled functions.\n",
    "\n",
    "To give one example, let\\'s consider the class for analyzing the Solow\n",
    "growth model we created in {ref}`this lecture <python_oop>`.\n",
    "\n",
    "To compile this class we use the `@jitclass` decorator:"
   ]
  },
  {
   "cell_type": "code",
   "execution_count": null,
   "id": "6a4b2806",
   "metadata": {},
   "outputs": [],
   "source": [
    "from numba import jitclass, float64"
   ]
  },
  {
   "cell_type": "markdown",
   "id": "b01321d3",
   "metadata": {},
   "source": [
    "Notice that we also imported something called `float64`.\n",
    "\n",
    "This is a data type representing standard floating point numbers.\n",
    "\n",
    "We are importing it here because Numba needs a bit of extra help with\n",
    "types when it trys to deal with classes.\n",
    "\n",
    "Here\\'s our code:"
   ]
  },
  {
   "cell_type": "code",
   "execution_count": null,
   "id": "6cd3bd4d",
   "metadata": {},
   "outputs": [],
   "source": [
    "solow_data = [\n",
    "    ('n', float64),\n",
    "    ('s', float64),\n",
    "    ('δ', float64),\n",
    "    ('α', float64),\n",
    "    ('z', float64),\n",
    "    ('k', float64)\n",
    "]\n",
    "\n",
    "@jitclass(solow_data)\n",
    "class Solow:\n",
    "    r\"\"\"\n",
    "    Implements the Solow growth model with the update rule\n",
    "\n",
    "        k_{t+1} = [(s z k^α_t) + (1 - δ)k_t] /(1 + n)\n",
    "\n",
    "    \"\"\"\n",
    "    def __init__(self, n=0.05,  # population growth rate\n",
    "                       s=0.25,  # savings rate\n",
    "                       δ=0.1,   # depreciation rate\n",
    "                       α=0.3,   # share of labor\n",
    "                       z=2.0,   # productivity\n",
    "                       k=1.0):  # current capital stock\n",
    "\n",
    "        self.n, self.s, self.δ, self.α, self.z = n, s, δ, α, z\n",
    "        self.k = k\n",
    "\n",
    "    def h(self):\n",
    "        \"Evaluate the h function\"\n",
    "        # Unpack parameters (get rid of self to simplify notation)\n",
    "        n, s, δ, α, z = self.n, self.s, self.δ, self.α, self.z\n",
    "        # Apply the update rule\n",
    "        return (s * z * self.k**α + (1 - δ) * self.k) / (1 + n)\n",
    "\n",
    "    def update(self):\n",
    "        \"Update the current state (i.e., the capital stock).\"\n",
    "        self.k =  self.h()\n",
    "\n",
    "    def steady_state(self):\n",
    "        \"Compute the steady state value of capital.\"\n",
    "        # Unpack parameters (get rid of self to simplify notation)\n",
    "        n, s, δ, α, z = self.n, self.s, self.δ, self.α, self.z\n",
    "        # Compute and return steady state\n",
    "        return ((s * z) / (n + δ))**(1 / (1 - α))\n",
    "\n",
    "    def generate_sequence(self, t):\n",
    "        \"Generate and return a time series of length t\"\n",
    "        path = []\n",
    "        for i in range(t):\n",
    "            path.append(self.k)\n",
    "            self.update()\n",
    "        return path"
   ]
  },
  {
   "cell_type": "markdown",
   "id": "87d98b71",
   "metadata": {},
   "source": [
    "First we specified the types of the instance data for the class in\n",
    "`solow_data`.\n",
    "\n",
    "After that, targeting the class for JIT compilation only requires adding\n",
    "`@jitclass(solow_data)` before the class definition.\n",
    "\n",
    "When we call the methods in the class, the methods are compiled just\n",
    "like functions."
   ]
  },
  {
   "cell_type": "code",
   "execution_count": null,
   "id": "da006c35",
   "metadata": {},
   "outputs": [],
   "source": [
    "s1 = Solow()\n",
    "s2 = Solow(k=8.0)\n",
    "\n",
    "T = 60\n",
    "fig, ax = plt.subplots()\n",
    "\n",
    "# Plot the common steady state value of capital\n",
    "ax.plot([s1.steady_state()]*T, 'k-', label='steady state')\n",
    "\n",
    "# Plot time series for each economy\n",
    "for s in s1, s2:\n",
    "    lb = f'capital series from initial state {s.k}'\n",
    "    ax.plot(s.generate_sequence(T), 'o-', lw=2, alpha=0.6, label=lb)\n",
    "ax.set_ylabel('$k_{t}$', fontsize=12)\n",
    "ax.set_xlabel('$t$', fontsize=12)\n",
    "ax.legend()\n",
    "plt.show()"
   ]
  },
  {
   "cell_type": "markdown",
   "id": "87b664bb",
   "metadata": {},
   "source": [
    "## Alternatives to Numba\n",
    "\n",
    "There are additional options for accelerating Python loops.\n",
    "\n",
    "Here we quickly review them.\n",
    "\n",
    "However, we do so only for interest and completeness.\n",
    "\n",
    "If you prefer, you can safely skip this section.\n",
    "\n",
    "### Cython\n",
    "\n",
    "Like [Numba](numba),\n",
    "[Cython](http://cython.org/) provides an approach to generating fast\n",
    "compiled code that can be used from Python.\n",
    "\n",
    "As was the case with Numba, a key problem is the fact that Python is\n",
    "dynamically typed.\n",
    "\n",
    "As you\\'ll recall, Numba solves this problem (where possible) by\n",
    "inferring type.\n",
    "\n",
    "Cython\\'s approach is different --- programmers add type definitions\n",
    "directly to their \\\"Python\\\" code.\n",
    "\n",
    "As such, the Cython language can be thought of as Python with type\n",
    "definitions.\n",
    "\n",
    "In addition to a language specification, Cython is also a language\n",
    "translator, transforming Cython code into optimized C and C++ code.\n",
    "\n",
    "Cython also takes care of building language extensions --- the wrapper\n",
    "code that interfaces between the resulting compiled code and Python.\n",
    "\n",
    "While Cython has certain advantages, we generally find it both slower\n",
    "and more cumbersome than Numba.\n",
    "\n",
    "### Interfacing with Fortran via F2Py\n",
    "\n",
    "If you are comfortable writing Fortran you will find it very easy to\n",
    "create extension modules from Fortran code using [F2Py](https://docs.scipy.org/doc/numpy/f2py/).\n",
    "\n",
    "F2Py is a Fortran-to-Python interface generator that is particularly\n",
    "simple to use.\n",
    "\n",
    "Robert Johansson provides a [nice introduction](http://nbviewer.jupyter.org/github/jrjohansson/scientific-python-lectures/blob/master/Lecture-6A-Fortran-and-C.ipynb)\n",
    "to F2Py, among other things.\n",
    "\n",
    "Recently, [a Jupyter cell magic for Fortran](http://nbviewer.jupyter.org/github/mgaitan/fortran\\_magic/blob/master/documentation.ipynb)\n",
    "has been developed --- you might want to give it a try.\n",
    "\n",
    "## Summary and Comments\n",
    "\n",
    "Let\\'s review the above and add some cautionary notes.\n",
    "\n",
    "### Limitations\n",
    "\n",
    "As we\\'ve seen, Numba needs to infer type information on all variables\n",
    "to generate fast machine-level instructions.\n",
    "\n",
    "For simple routines, Numba infers types very well.\n",
    "\n",
    "For larger ones, or for routines using external libraries, it can easily\n",
    "fail.\n",
    "\n",
    "Hence, it\\'s prudent when using Numba to focus on speeding up small,\n",
    "time-critical snippets of code.\n",
    "\n",
    "This will give you much better performance than blanketing your Python\n",
    "programs with `@jit` statements.\n",
    "\n",
    "### A Gotcha: Global Variables\n",
    "\n",
    "Here\\'s another thing to be careful about when using Numba.\n",
    "\n",
    "Consider the following example"
   ]
  },
  {
   "cell_type": "code",
   "execution_count": null,
   "id": "79a48de1",
   "metadata": {},
   "outputs": [],
   "source": [
    "a = 1\n",
    "\n",
    "@jit\n",
    "def add_a(x):\n",
    "    return a + x\n",
    "\n",
    "print(add_a(10))"
   ]
  },
  {
   "cell_type": "code",
   "execution_count": null,
   "id": "18a81843",
   "metadata": {},
   "outputs": [],
   "source": [
    "a = 2\n",
    "\n",
    "print(add_a(10))"
   ]
  },
  {
   "cell_type": "markdown",
   "id": "da8d3860",
   "metadata": {},
   "source": [
    "Notice that changing the global had no effect on the value returned by\n",
    "the function.\n",
    "\n",
    "When Numba compiles machine code for functions, it treats global\n",
    "variables as constants to ensure type stability.\n",
    "\n",
    "## Exercises\n",
    "\n",
    "(speed_ex1)=\n",
    "\n",
    "### Exercise 1\n",
    "\n",
    "{ref}`Previously <pbe_ex3>` we considered how\n",
    "to approximate $\\pi$ by Monte Carlo.\n",
    "\n",
    "Use the same idea here, but make the code efficient using Numba.\n",
    "\n",
    "Compare speed with and without Numba when the sample size is large.\n",
    "\n",
    "(speed_ex2)=\n",
    "\n",
    "### Exercise 2\n",
    "\n",
    "In the [Introduction to Quantitative Economics with\n",
    "Python](https://python-intro.quantecon.org) lecture series you can learn\n",
    "all about finite-state Markov chains.\n",
    "\n",
    "For now, let\\'s just concentrate on simulating a very simple example of\n",
    "such a chain.\n",
    "\n",
    "Suppose that the volatility of returns on an asset can be in one of two\n",
    "regimes --- high or low.\n",
    "\n",
    "The transition probabilities across states are as follows\n",
    "\n",
    "```{figure} /_static/lecture_specific/sci_libs/nfs_ex1.png\n",
    ":align: center\n",
    "```\n",
    "\n",
    "For example, let the period length be one day, and suppose the current\n",
    "state is high.\n",
    "\n",
    "We see from the graph that the state tomorrow will be\n",
    "\n",
    "-   high with probability 0.8\n",
    "-   low with probability 0.2\n",
    "\n",
    "Your task is to simulate a sequence of daily volatility states according\n",
    "to this rule.\n",
    "\n",
    "Set the length of the sequence to `n = 1_000_000` and start in the high\n",
    "state.\n",
    "\n",
    "Implement a pure Python version and a Numba version, and compare speeds.\n",
    "\n",
    "To test your code, evaluate the fraction of time that the chain spends\n",
    "in the low state.\n",
    "\n",
    "If your code is correct, it should be about 2/3.\n",
    "\n",
    "Hints:\n",
    "\n",
    "-   Represent the low state as 0 and the high state as 1.\n",
    "-   If you want to store integers in a NumPy array and then apply JIT compilation, use `x = np.empty(n, dtype=np.int_)`.\n",
    "\n",
    "## Solutions\n",
    "\n",
    "### Exercise 1\n",
    "\n",
    "Here is one solution:"
   ]
  },
  {
   "cell_type": "code",
   "execution_count": null,
   "id": "16783ba2",
   "metadata": {},
   "outputs": [],
   "source": [
    "from random import uniform\n",
    "\n",
    "@njit\n",
    "def calculate_pi(n=1_000_000):\n",
    "    count = 0\n",
    "    for i in range(n):\n",
    "        u, v = uniform(0, 1), uniform(0, 1)\n",
    "        d = np.sqrt((u - 0.5)**2 + (v - 0.5)**2)\n",
    "        if d < 0.5:\n",
    "            count += 1\n",
    "\n",
    "    area_estimate = count / n\n",
    "    return area_estimate * 4  # dividing by radius**2"
   ]
  },
  {
   "cell_type": "markdown",
   "id": "c7a51796",
   "metadata": {},
   "source": [
    "Now let\\'s see how fast it runs:"
   ]
  },
  {
   "cell_type": "code",
   "execution_count": null,
   "id": "f87ebd88",
   "metadata": {},
   "outputs": [],
   "source": [
    "%time calculate_pi()"
   ]
  },
  {
   "cell_type": "code",
   "execution_count": null,
   "id": "242b55a5",
   "metadata": {},
   "outputs": [],
   "source": [
    "%time calculate_pi()"
   ]
  },
  {
   "cell_type": "markdown",
   "id": "ee3ad53e",
   "metadata": {},
   "source": [
    "If we switch of JIT compilation by removing `@njit`, the code takes\n",
    "around 150 times as long on our machine.\n",
    "\n",
    "So we get a speed gain of 2 orders of magnitude--which is huge--by\n",
    "adding four characters.\n",
    "\n",
    "### Exercise 2\n",
    "\n",
    "We let\n",
    "\n",
    "-   0 represent \\\"low\\\"\n",
    "-   1 represent \\\"high\\\""
   ]
  },
  {
   "cell_type": "code",
   "execution_count": null,
   "id": "03b249cf",
   "metadata": {},
   "outputs": [],
   "source": [
    "p, q = 0.1, 0.2  # Prob of leaving low and high state respectively"
   ]
  },
  {
   "cell_type": "markdown",
   "id": "aece52ae",
   "metadata": {},
   "source": [
    "Here\\'s a pure Python version of the function"
   ]
  },
  {
   "cell_type": "code",
   "execution_count": null,
   "id": "ce9341fc",
   "metadata": {},
   "outputs": [],
   "source": [
    "def compute_series(n):\n",
    "    x = np.empty(n, dtype=np.int_)\n",
    "    x[0] = 1  # Start in state 1\n",
    "    U = np.random.uniform(0, 1, size=n)\n",
    "    for t in range(1, n):\n",
    "        current_x = x[t-1]\n",
    "        if current_x == 0:\n",
    "            x[t] = U[t] < p\n",
    "        else:\n",
    "            x[t] = U[t] > q\n",
    "    return x"
   ]
  },
  {
   "cell_type": "markdown",
   "id": "fc0bebfc",
   "metadata": {},
   "source": [
    "Let\\'s run this code and check that the fraction of time spent in the\n",
    "low state is about 0.666"
   ]
  },
  {
   "cell_type": "code",
   "execution_count": null,
   "id": "87f26058",
   "metadata": {},
   "outputs": [],
   "source": [
    "n = 1_000_000\n",
    "x = compute_series(n)\n",
    "print(np.mean(x == 0))  # Fraction of time x is in state 0"
   ]
  },
  {
   "cell_type": "markdown",
   "id": "5c477d14",
   "metadata": {},
   "source": [
    "This is (approximately) the right output.\n",
    "\n",
    "Now let\\'s time it:"
   ]
  },
  {
   "cell_type": "code",
   "execution_count": null,
   "id": "d80e800a",
   "metadata": {},
   "outputs": [],
   "source": [
    "qe.tic()\n",
    "compute_series(n)\n",
    "qe.toc()"
   ]
  },
  {
   "cell_type": "markdown",
   "id": "178ee24c",
   "metadata": {},
   "source": [
    "Next let\\'s implement a Numba version, which is easy"
   ]
  },
  {
   "cell_type": "code",
   "execution_count": null,
   "id": "8ed7b35e",
   "metadata": {},
   "outputs": [],
   "source": [
    "from numba import jit\n",
    "\n",
    "compute_series_numba = jit(compute_series)"
   ]
  },
  {
   "cell_type": "markdown",
   "id": "2b918be1",
   "metadata": {},
   "source": [
    "Let\\'s check we still get the right numbers"
   ]
  },
  {
   "cell_type": "code",
   "execution_count": null,
   "id": "b5caea07",
   "metadata": {},
   "outputs": [],
   "source": [
    "x = compute_series_numba(n)\n",
    "print(np.mean(x == 0))"
   ]
  },
  {
   "cell_type": "markdown",
   "id": "4fc7954b",
   "metadata": {},
   "source": [
    "Let\\'s see the time"
   ]
  },
  {
   "cell_type": "code",
   "execution_count": null,
   "id": "3da00a8b",
   "metadata": {},
   "outputs": [],
   "source": [
    "qe.tic()\n",
    "compute_series_numba(n)\n",
    "qe.toc()"
   ]
  },
  {
   "cell_type": "markdown",
   "id": "d8fb8f4a",
   "metadata": {},
   "source": [
    "This is a nice speed improvement for one line of code!\n",
    "\n",
    "\n",
    "```{bibliography} quant-econ.bib\n",
    "```"
   ]
  }
 ],
 "metadata": {
  "jupytext": {
   "text_representation": {
    "extension": ".md",
    "format_name": "myst"
   }
  },
  "kernelspec": {
   "display_name": "Python 3",
   "language": "python",
   "name": "python3"
  },
  "source_map": [
   10,
   19,
   23,
   31,
   37,
   100,
   102,
   107,
   121,
   127,
   131,
   141,
   147,
   151,
   155,
   164,
   170,
   172,
   210,
   212,
   230,
   238,
   244,
   246,
   279,
   289,
   308,
   310,
   321,
   374,
   385,
   403,
   482,
   492,
   496,
   569,
   583,
   587,
   591,
   593,
   608,
   610,
   614,
   626,
   631,
   635,
   641,
   645,
   649,
   653,
   657,
   660,
   664,
   668
  ]
 },
 "nbformat": 4,
 "nbformat_minor": 5
}